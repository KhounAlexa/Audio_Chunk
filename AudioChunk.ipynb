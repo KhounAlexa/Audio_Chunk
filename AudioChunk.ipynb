{
  "nbformat": 4,
  "nbformat_minor": 0,
  "metadata": {
    "colab": {
      "provenance": []
    },
    "kernelspec": {
      "name": "python3",
      "display_name": "Python 3"
    },
    "language_info": {
      "name": "python"
    }
  },
  "cells": [
    {
      "cell_type": "markdown",
      "source": [
        "# Installing Library"
      ],
      "metadata": {
        "id": "HoAVmiTlkmjs"
      }
    },
    {
      "cell_type": "code",
      "source": [
        "# Install necessary libraries\n",
        "!pip install librosa pydub pyAudioAnalysis hmmlearn eyed3\n",
        "!pip install pyAudioAnalysis==0.3.14\n",
        "!pip show pyAudioAnalysis\n",
        "!pip install webrtcvad subprocess.run\n",
        "!pip install soundfile"
      ],
      "metadata": {
        "id": "HpnL-jmWkrZ4"
      },
      "execution_count": null,
      "outputs": []
    },
    {
      "cell_type": "markdown",
      "source": [
        "# **Import libraries**\n",
        "\n"
      ],
      "metadata": {
        "id": "glQxbnFkk3md"
      }
    },
    {
      "cell_type": "code",
      "source": [
        "import os\n",
        "import librosa\n",
        "import soundfile as sf\n"
      ],
      "metadata": {
        "id": "nsPxsrnyk7V9"
      },
      "execution_count": null,
      "outputs": []
    },
    {
      "cell_type": "markdown",
      "source": [
        "# **Load file**"
      ],
      "metadata": {
        "id": "qS9lugfpk9iZ"
      }
    },
    {
      "cell_type": "code",
      "source": [
        "# Load image from local machine\n",
        "from google.colab import files\n",
        "\n",
        "uploaded = files.upload()"
      ],
      "metadata": {
        "colab": {
          "base_uri": "https://localhost:8080/",
          "height": 73
        },
        "id": "SzcuOKThlBLJ",
        "outputId": "867024b2-ab23-4a13-f3ab-b9a72f06ab0f"
      },
      "execution_count": null,
      "outputs": [
        {
          "output_type": "display_data",
          "data": {
            "text/plain": [
              "<IPython.core.display.HTML object>"
            ],
            "text/html": [
              "\n",
              "     <input type=\"file\" id=\"files-1a72ebd4-f824-4aa4-9ff8-a161e6ffe63a\" name=\"files[]\" multiple disabled\n",
              "        style=\"border:none\" />\n",
              "     <output id=\"result-1a72ebd4-f824-4aa4-9ff8-a161e6ffe63a\">\n",
              "      Upload widget is only available when the cell has been executed in the\n",
              "      current browser session. Please rerun this cell to enable.\n",
              "      </output>\n",
              "      <script>// Copyright 2017 Google LLC\n",
              "//\n",
              "// Licensed under the Apache License, Version 2.0 (the \"License\");\n",
              "// you may not use this file except in compliance with the License.\n",
              "// You may obtain a copy of the License at\n",
              "//\n",
              "//      http://www.apache.org/licenses/LICENSE-2.0\n",
              "//\n",
              "// Unless required by applicable law or agreed to in writing, software\n",
              "// distributed under the License is distributed on an \"AS IS\" BASIS,\n",
              "// WITHOUT WARRANTIES OR CONDITIONS OF ANY KIND, either express or implied.\n",
              "// See the License for the specific language governing permissions and\n",
              "// limitations under the License.\n",
              "\n",
              "/**\n",
              " * @fileoverview Helpers for google.colab Python module.\n",
              " */\n",
              "(function(scope) {\n",
              "function span(text, styleAttributes = {}) {\n",
              "  const element = document.createElement('span');\n",
              "  element.textContent = text;\n",
              "  for (const key of Object.keys(styleAttributes)) {\n",
              "    element.style[key] = styleAttributes[key];\n",
              "  }\n",
              "  return element;\n",
              "}\n",
              "\n",
              "// Max number of bytes which will be uploaded at a time.\n",
              "const MAX_PAYLOAD_SIZE = 100 * 1024;\n",
              "\n",
              "function _uploadFiles(inputId, outputId) {\n",
              "  const steps = uploadFilesStep(inputId, outputId);\n",
              "  const outputElement = document.getElementById(outputId);\n",
              "  // Cache steps on the outputElement to make it available for the next call\n",
              "  // to uploadFilesContinue from Python.\n",
              "  outputElement.steps = steps;\n",
              "\n",
              "  return _uploadFilesContinue(outputId);\n",
              "}\n",
              "\n",
              "// This is roughly an async generator (not supported in the browser yet),\n",
              "// where there are multiple asynchronous steps and the Python side is going\n",
              "// to poll for completion of each step.\n",
              "// This uses a Promise to block the python side on completion of each step,\n",
              "// then passes the result of the previous step as the input to the next step.\n",
              "function _uploadFilesContinue(outputId) {\n",
              "  const outputElement = document.getElementById(outputId);\n",
              "  const steps = outputElement.steps;\n",
              "\n",
              "  const next = steps.next(outputElement.lastPromiseValue);\n",
              "  return Promise.resolve(next.value.promise).then((value) => {\n",
              "    // Cache the last promise value to make it available to the next\n",
              "    // step of the generator.\n",
              "    outputElement.lastPromiseValue = value;\n",
              "    return next.value.response;\n",
              "  });\n",
              "}\n",
              "\n",
              "/**\n",
              " * Generator function which is called between each async step of the upload\n",
              " * process.\n",
              " * @param {string} inputId Element ID of the input file picker element.\n",
              " * @param {string} outputId Element ID of the output display.\n",
              " * @return {!Iterable<!Object>} Iterable of next steps.\n",
              " */\n",
              "function* uploadFilesStep(inputId, outputId) {\n",
              "  const inputElement = document.getElementById(inputId);\n",
              "  inputElement.disabled = false;\n",
              "\n",
              "  const outputElement = document.getElementById(outputId);\n",
              "  outputElement.innerHTML = '';\n",
              "\n",
              "  const pickedPromise = new Promise((resolve) => {\n",
              "    inputElement.addEventListener('change', (e) => {\n",
              "      resolve(e.target.files);\n",
              "    });\n",
              "  });\n",
              "\n",
              "  const cancel = document.createElement('button');\n",
              "  inputElement.parentElement.appendChild(cancel);\n",
              "  cancel.textContent = 'Cancel upload';\n",
              "  const cancelPromise = new Promise((resolve) => {\n",
              "    cancel.onclick = () => {\n",
              "      resolve(null);\n",
              "    };\n",
              "  });\n",
              "\n",
              "  // Wait for the user to pick the files.\n",
              "  const files = yield {\n",
              "    promise: Promise.race([pickedPromise, cancelPromise]),\n",
              "    response: {\n",
              "      action: 'starting',\n",
              "    }\n",
              "  };\n",
              "\n",
              "  cancel.remove();\n",
              "\n",
              "  // Disable the input element since further picks are not allowed.\n",
              "  inputElement.disabled = true;\n",
              "\n",
              "  if (!files) {\n",
              "    return {\n",
              "      response: {\n",
              "        action: 'complete',\n",
              "      }\n",
              "    };\n",
              "  }\n",
              "\n",
              "  for (const file of files) {\n",
              "    const li = document.createElement('li');\n",
              "    li.append(span(file.name, {fontWeight: 'bold'}));\n",
              "    li.append(span(\n",
              "        `(${file.type || 'n/a'}) - ${file.size} bytes, ` +\n",
              "        `last modified: ${\n",
              "            file.lastModifiedDate ? file.lastModifiedDate.toLocaleDateString() :\n",
              "                                    'n/a'} - `));\n",
              "    const percent = span('0% done');\n",
              "    li.appendChild(percent);\n",
              "\n",
              "    outputElement.appendChild(li);\n",
              "\n",
              "    const fileDataPromise = new Promise((resolve) => {\n",
              "      const reader = new FileReader();\n",
              "      reader.onload = (e) => {\n",
              "        resolve(e.target.result);\n",
              "      };\n",
              "      reader.readAsArrayBuffer(file);\n",
              "    });\n",
              "    // Wait for the data to be ready.\n",
              "    let fileData = yield {\n",
              "      promise: fileDataPromise,\n",
              "      response: {\n",
              "        action: 'continue',\n",
              "      }\n",
              "    };\n",
              "\n",
              "    // Use a chunked sending to avoid message size limits. See b/62115660.\n",
              "    let position = 0;\n",
              "    do {\n",
              "      const length = Math.min(fileData.byteLength - position, MAX_PAYLOAD_SIZE);\n",
              "      const chunk = new Uint8Array(fileData, position, length);\n",
              "      position += length;\n",
              "\n",
              "      const base64 = btoa(String.fromCharCode.apply(null, chunk));\n",
              "      yield {\n",
              "        response: {\n",
              "          action: 'append',\n",
              "          file: file.name,\n",
              "          data: base64,\n",
              "        },\n",
              "      };\n",
              "\n",
              "      let percentDone = fileData.byteLength === 0 ?\n",
              "          100 :\n",
              "          Math.round((position / fileData.byteLength) * 100);\n",
              "      percent.textContent = `${percentDone}% done`;\n",
              "\n",
              "    } while (position < fileData.byteLength);\n",
              "  }\n",
              "\n",
              "  // All done.\n",
              "  yield {\n",
              "    response: {\n",
              "      action: 'complete',\n",
              "    }\n",
              "  };\n",
              "}\n",
              "\n",
              "scope.google = scope.google || {};\n",
              "scope.google.colab = scope.google.colab || {};\n",
              "scope.google.colab._files = {\n",
              "  _uploadFiles,\n",
              "  _uploadFilesContinue,\n",
              "};\n",
              "})(self);\n",
              "</script> "
            ]
          },
          "metadata": {}
        },
        {
          "output_type": "stream",
          "name": "stdout",
          "text": [
            "Saving sample_3.wav to sample_3.wav\n"
          ]
        }
      ]
    },
    {
      "cell_type": "markdown",
      "source": [
        "# **Chunk Audio**"
      ],
      "metadata": {
        "id": "-fgdQaQCn0JE"
      }
    },
    {
      "cell_type": "code",
      "source": [
        "from pydub import AudioSegment, silence\n",
        "import os\n",
        "# Create a directory for saving chunked audio if it doesn't exist\n",
        "output_dir = \"./source/chunk_audio\"\n",
        "if not os.path.exists(output_dir):\n",
        "    os.makedirs(output_dir)\n",
        "\n",
        "# Load your audio file\n",
        "audio_file = \"./data/sample_3.wav\"  # Replace with your actual file name\n",
        "sound = AudioSegment.from_file(audio_file)\n",
        "\n",
        "# Define silence threshold in dBFS\n",
        "silence_thresh = -40\n",
        "\n",
        "# Detect non-silent chunks with a minimum length of 850 ms (0.85 seconds)\n",
        "non_silent_chunks = silence.detect_nonsilent(sound, min_silence_len=1000, silence_thresh=silence_thresh)\n",
        "\n",
        "# Extract non-silent segments from the audio\n",
        "for i, (start, end) in enumerate(non_silent_chunks):\n",
        "    chunk = sound[start:end]\n",
        "    chunk.export(os.path.join(output_dir, f\"chunk_{i}.wav\"), format=\"wav\")"
      ],
      "metadata": {
        "id": "ag24mNNQuTOL"
      },
      "execution_count": null,
      "outputs": []
    },
    {
      "cell_type": "markdown",
      "source": [
        "# Filter audio by male and female"
      ],
      "metadata": {
        "id": "JEBF71aUozKz"
      }
    },
    {
      "cell_type": "code",
      "source": [
        "import os\n",
        "import soundfile as sf\n",
        "import librosa\n",
        "import numpy as np\n",
        "from sklearn.cluster import DBSCAN\n",
        "\n",
        "# Load the audio file\n",
        "audio_path = \"./data/sample_3.wav\"\n",
        "y, sr = librosa.load(audio_path)\n",
        "\n",
        "# Extract features (MFCC, energy)\n",
        "mfcc = librosa.feature.mfcc(y=y, sr=sr, n_mfcc=13)\n",
        "energy = librosa.feature.rms(y=y)\n",
        "\n",
        "# Combine features\n",
        "features = np.vstack([mfcc, energy])\n",
        "\n",
        "# Transpose feature matrix\n",
        "features = features.T\n",
        "\n",
        "# Normalize features\n",
        "features_norm = (features - features.mean(axis=0)) / features.std(axis=0)\n",
        "\n",
        "# Define a range of eps values to experiment with\n",
        "eps_values = [0.1, 0.5, 1.0, 1.5, 2.0]\n",
        "\n",
        "# Iterate over eps values and perform clustering\n",
        "for eps in eps_values:\n",
        "    # Perform clustering (DBSCAN)\n",
        "    dbscan = DBSCAN(eps=eps, min_samples=5)  # Adjust min_samples as needed\n",
        "    cluster_labels = dbscan.fit_predict(features_norm)\n",
        "\n",
        "    # Create directories to save segmented audio\n",
        "    output_dir_male = \"./source/male_segments\"\n",
        "    output_dir_female = \"./source/female_segments\"\n",
        "    os.makedirs(output_dir_male, exist_ok=True)\n",
        "    os.makedirs(output_dir_female, exist_ok=True)\n",
        "\n",
        "    # Save segments to respective directories\n",
        "    for i, label in enumerate(cluster_labels):\n",
        "        segment_start = librosa.frames_to_time(i, sr=sr)\n",
        "        segment_end = librosa.frames_to_time(i + 1, sr=sr) if i < len(cluster_labels) - 1 else librosa.get_duration(y=y, sr=sr)\n",
        "        segment = y[int(segment_start * sr):int(segment_end * sr)]\n",
        "        if len(segment) > 0:  # Check if segment has non-zero length\n",
        "            if label == 0:\n",
        "                sf.write(os.path.join(output_dir_male, f\"male_segment_{i+1}.wav\"), segment, sr)\n",
        "            elif label == 1:\n",
        "                sf.write(os.path.join(output_dir_female, f\"female_segment_{i+1}.wav\"), segment, sr)\n"
      ],
      "metadata": {
        "id": "UL_MDJSUo0U5"
      },
      "execution_count": null,
      "outputs": []
    },
    {
      "cell_type": "markdown",
      "source": [
        "# **Read Audio**"
      ],
      "metadata": {
        "id": "BhyBIZxqUFiS"
      }
    },
    {
      "cell_type": "code",
      "source": [
        "from IPython.display import Audio\n",
        "import os\n",
        "\n",
        "# Directory containing the audio files\n",
        "# audio_dir = 'female_audio_chunks'\n",
        "audio_dir = './source/female_segments'\n",
        "\n",
        "def extract_number(filename):\n",
        "    # Assuming the numeric part is at the beginning of the filename before any non-digit characters\n",
        "    return int(''.join(filter(str.isdigit, filename)))\n",
        "\n",
        "\n",
        "# List all audio files in the directory\n",
        "audio_files = [f for f in os.listdir(audio_dir) if f.endswith('.wav')]\n",
        "# Sort the audio files using the custom key function\n",
        "audio_files.sort(key=extract_number) # Sort the audio files alphabetically\n",
        "\n",
        "# Iterate over each audio file and play it\n",
        "for audio_file in audio_files:\n",
        "    audio_path = os.path.join(audio_dir, audio_file)\n",
        "    print(f\"Playing audio file: {audio_file}\")\n",
        "    display(Audio(audio_path))\n"
      ],
      "metadata": {
        "id": "8tMUwJ-y6_7g",
        "colab": {
          "base_uri": "https://localhost:8080/",
          "height": 1000
        },
        "outputId": "bcbaa528-8c7a-4607-d327-ef408d2ea810"
      },
      "execution_count": null,
      "outputs": [
        {
          "output_type": "stream",
          "name": "stdout",
          "text": [
            "Playing audio file: female_segment_5.wav\n"
          ]
        },
        {
          "output_type": "display_data",
          "data": {
            "text/plain": [
              "<IPython.lib.display.Audio object>"
            ],
            "text/html": [
              "\n",
              "                <audio  controls=\"controls\" >\n",
              "                    <source src=\"data:audio/x-wav;base64,UklGRiQEAABXQVZFZm10IBAAAAABAAEAIlYAAESsAAACABAAZGF0YQAEAAADAAQAAwADAAQABAADAAQABAADAAIAAwADAAIAAwADAAQABAADAAMAAgADAAMAAgADAAMAAgACAAMAAwAEAAMAAwAEAAQAAwACAAIAAwACAAIAAwAEAAMABAAEAAMAAwACAAIAAwADAAQABAADAAMAAwAEAAMAAwAEAAMABAAEAAMABAADAAMABAAEAAQAAwADAAMAAgACAAMAAwAEAAQAAwADAAMABAAEAAMAAwADAAMABAADAAQABAADAAMABAAEAAMABAAEAAMABAAEAAMABAAEAAMABAAEAAMABAAEAAMABAAEAAMAAwADAAQAAwAEAAQAAwACAAMAAwAEAAMABAAEAAMABAAEAAMAAwACAAIAAgADAAQABAAFAAUABAADAAMAAgACAAMAAwADAAIAAwADAAMABAAFAAUABgAHAAgACAAHAAQAAQAAAAIACAAOABQAFwAVAA4ABAD8//f/9//6/wEACAANAA4ACwAFAP7/+v/6//z///8BAAMABAAEAAIAAAD+//z/+//8//7/AAADAAQABAADAAIAAQACAAMABAAEAAMAAgACAAMABQAHAAgACAAHAAYAAwABAAEAAQAEAAcACwAOAA4ADAAIAAUAAgABAAAAAAAAAP7///8BAAMABQAGAAQAAQD///7//v///wAAAQACAAQABQAEAAMAAQD+//3//f///wIABQAGAAQAAgABAAAA//8AAAAA////////AAD//wAAAAD///7/////////AAACAAUACAAKAAoACAAFAAQABQAHAAkACwAMAAsACQAJAAkACwANAA0ACwAIAAMA///9//3/AAAEAAgACwALAAcAAQD8//v//f8CAAkADQANAAoABgABAPz/+P/2//b/+f8AAAcACwAMAAgA///4//X/9f/5//3///8AAP////8BAAQABwAIAAgABgAFAAYABwAHAAcABgAGAAcABwAIAAcABAAAAP7//v8AAAMABQAGAAcACAAIAAgABgAEAAEAAAAAAAMABQAHAAgABwAHAAcACAAHAAcABQACAAAAAgAEAAYACAAJAAYABAAEAAUABwAIAAgABwAGAAUABwAKAAwADAAMAAsACAAEAAEA/v/9////AgAHAAsADgANAAkAAwD8//b/9P/2//z/BAALAA4ADgAJAAEA+//4//n//f8CAAYACAAGAAMA///8//r/+v/6//z/AAADAAYACAAIAAcABgAFAAYABgAHAAgACAAGAAQAAgABAP///v8AAAIABQAHAAgACAAGAAMAAAD+////AQABAAAA/v/7//n/+f/7//7/AwAGAAYAAgD9//n/9v/2//j//P8AAAQABgAFAAIA/v/5//b/\" type=\"audio/x-wav\" />\n",
              "                    Your browser does not support the audio element.\n",
              "                </audio>\n",
              "              "
            ]
          },
          "metadata": {}
        },
        {
          "output_type": "stream",
          "name": "stdout",
          "text": [
            "Playing audio file: female_segment_6.wav\n"
          ]
        },
        {
          "output_type": "display_data",
          "data": {
            "text/plain": [
              "<IPython.lib.display.Audio object>"
            ],
            "text/html": [
              "\n",
              "                <audio  controls=\"controls\" >\n",
              "                    <source src=\"data:audio/x-wav;base64,UklGRiQEAABXQVZFZm10IBAAAAABAAEAIlYAAESsAAACABAAZGF0YQAEAAD2//n///8GAAwADwAOAAkAAwD+//z//v8BAAUABwAIAAcABwAGAAYABwAHAAYABAACAAIAAgAEAAUABwAIAAkACAAHAAUAAgAAAP///////wEABAAHAAoADQAPABAAEAAMAAYAAQD+//7/AAADAAUABgAFAAIA///+//7//v///wEAAgADAAUABgAIAAkACwAMAAsACgAIAAUAAQD+//3//v8BAAUABwAGAAMAAAD8//n/+f/6//3/AgAFAAYABQADAAEA///+////AQAEAAgADAAOAA8ADgANAAoACQAHAAYABQAGAAcABwAIAAcABgAFAAYABwAJAAwADQALAAgAAwAAAP7/AAAEAAgADAANAAwABwACAP7//P/9/wEABgAKAAsACAAEAP//+//7//7/BAAKAA4AEAAOAAoABAD///v/+f/6//7/AwAHAAkABgADAAAA/f/+/wIABQAGAAUAAgD///7///8AAAAAAAD/////AAD//wAAAAD/////AAACAAUABwAGAAIA/f/4//f/+v8BAAoAEQAUABQAEAAJAAQAAQAAAAEABAAHAAgACAAFAAIAAAD///////8AAAEAAAAAAP//AAD/////AAABAAAA/f/6//j/+P/4//n//P/+/wAAAQABAAAA/v/8//v/+v/7//7/AwAHAAoACgAHAAIA/f/6//r/+//+/wMACQAMAA4ADwAPAA0ACgAIAAYABgAGAAcABwAHAAUAAgD///7//f///wMABwAKAAoACAAFAAEA//8AAAQABwAJAAgABgACAAAA/////wAAAwAFAAUABAACAP///f/9//7/AAACAAQAAwADAAQAAwACAAMAAwAEAAQAAwADAAQAAwADAAIAAwADAAMABQAHAAkACwAMAAsACwAJAAcABQAGAAgACwANAA0ACwAHAAIAAAD//wAAAQADAAUABgAHAAcABgAEAAEA///+////AQAEAAcACAAHAAYABgAHAAgACAAIAAcABgAGAAUABgAJAAsADAAMAAkAAwD9//n/9//5//z/AQAEAAUABQAEAAAA/f/6//n/+f/7////AwAGAAYABQABAP7//f///wIABgAIAAgABwAGAAYABwAGAAQAAQD8//j/+P/7/wEACAANAA4ADAAIAAIA/P/5//f/+P/8/wIACAAMAA4ADAAJAAQAAAD+//3//v8BAAUACwAPABEAEAANAAkABgADAAEAAgADAAUABwAJAAkACAAHAAYABAACAAIAAgADAAUABgAHAAkACwAMAA0ACwAHAAMA///9//3/AAADAAcADAAPAA8ADAAHAAIA///9/wAABAAIAAwADgAMAAgAAwD///3//v8BAAIA\" type=\"audio/x-wav\" />\n",
              "                    Your browser does not support the audio element.\n",
              "                </audio>\n",
              "              "
            ]
          },
          "metadata": {}
        },
        {
          "output_type": "stream",
          "name": "stdout",
          "text": [
            "Playing audio file: female_segment_7.wav\n"
          ]
        },
        {
          "output_type": "display_data",
          "data": {
            "text/plain": [
              "<IPython.lib.display.Audio object>"
            ],
            "text/html": [
              "\n",
              "                <audio  controls=\"controls\" >\n",
              "                    <source src=\"data:audio/x-wav;base64,UklGRiQEAABXQVZFZm10IBAAAAABAAEAIlYAAESsAAACABAAZGF0YQAEAAAEAAUABwAIAAkACAAHAAcABwAHAAYAAwAAAP/////+////AAACAAMABQAEAAIAAgACAAMABQAGAAcACAAJAAoACgAHAAMAAQD///////8AAAIAAwAEAAUABAACAAAA////////AAABAAEAAwAEAAQAAwD///3//v8CAAcACQAHAAUAAwACAAIAAAD+//3/AQAGAAoACgAIAAYABAAAAPz/+f/6/wAACQAQABMAEQAOAAoABQABAP3//v8EAAwADgALAAUA///9//7/AAABAAAA/v/8//r/+f/4//n//P/+//7/+v/2//T/9f/4//n/+v/7//v//f8AAAIAAQD///7//v8BAAUACAAMAA4ADAAIAAIA/f/6//3/AwAIAAgABQABAP//AAABAP///f/9/wEABQAIAAgABwAIAAsADgAOAAoABgADAAAA/////wAAAwAIAAkABwACAP7//P/+/wAAAQAAAAEABAAHAAgABwAGAAUABgAHAAUAAwABAP///////wEABQAKAA4ADwALAAUAAAAAAAQACgAOABAADgALAAcABgAFAAgACwAOAA8ADwAOAAwACQAGAAQAAwAFAAkADQAPAA4ACAABAPr/9//3//z/AgAGAAgABwAEAAAA+//2//X/9//7/wEABgAIAAcABAABAP//AAAAAAEAAgAAAP////8CAAUABwAHAAUABAAFAAYABwAFAAEA/v/+////BAAHAAkACgAIAAUAAwABAAAAAAABAAMABQAIAAkABwAEAAEAAAAAAAEAAQAAAP7///8DAAkADQALAAcAAwD///v/+f/4//n//P8BAAUABgAFAAMAAQD//wAAAQABAAMABAAEAAMAAAD9//z//P///wMABQAFAAMAAAD+//3//v///wIABQAHAAgABwAHAAkADAANAA0ACwAIAAYABgAGAAYABQADAAAA/////////f/8//3//v8BAAUABwAJAAcAAwD+//v/+v/9/wEABQAHAAgACQAJAAcAAwABAAMABwAMAA8ADQAHAAEA/f///wQACAAKAAkABwAGAAQAAAD8//z/AAAHAA0ADwALAAMA/f/7//v/+//9/wAABAAGAAYAAgD+//3///8AAAAA/////wEABQAIAAgABgAFAAcABwADAP3/9//2//r/AAAHAAwADgANAAkAAQD6//b/+f8CAA0AFQAXABMACgABAPv/9//1//j//f8CAAYABwADAP///f///wMAAwABAAAAAQAEAAYABAAAAP7/AQAIAA0ADAAHAAMAAgAFAAgACAAHAAkACwANAAoABQABAAAAAwAGAAgACAAHAAYABgAEAAEAAQACAAMAAwAAAPv/9//3//r/\" type=\"audio/x-wav\" />\n",
              "                    Your browser does not support the audio element.\n",
              "                </audio>\n",
              "              "
            ]
          },
          "metadata": {}
        },
        {
          "output_type": "stream",
          "name": "stdout",
          "text": [
            "Playing audio file: female_segment_8.wav\n"
          ]
        },
        {
          "output_type": "display_data",
          "data": {
            "text/plain": [
              "<IPython.lib.display.Audio object>"
            ],
            "text/html": [
              "\n",
              "                <audio  controls=\"controls\" >\n",
              "                    <source src=\"data:audio/x-wav;base64,UklGRiQEAABXQVZFZm10IBAAAAABAAEAIlYAAESsAAACABAAZGF0YQAEAAABAAcACwAKAAcAAwD///v/+P/2//f//P8DAAgACgAIAAMA/f/5//f/+f/+/wQACAAJAAgABwAHAAgACAAIAAgABwAHAAgACQAJAAcABgAGAAYABwAIAAcABQADAAEAAAD///7///8AAAAAAQAAAP7/+//5//v///8CAAYACAAIAAQAAAD9//3/AQAGAAkACAAEAAEA//8AAAAAAAABAAIABgAJAAkABQACAAIABQAIAAsACQAGAAUABgAGAAUABQAGAAoADgAPAAwABgAAAP3//v8BAAUABgAEAAIA///9//3/AAAFAAkACgAKAAYAAQD8//n/+f/6//z///8CAAYACAAIAAYAAgAAAP//AAAAAP//AAAAAAAA/v/8//7/AgAFAAUAAQD7//r//f8EAAoADAAOAA8AEAANAAUA+//3//z/BgAPABMAEAANAAoACAADAP7///8HABEAFwAVAA4ABwACAAEAAgABAAAAAgAEAAYABgACAP7/+//9/wMACAAJAAYAAgD///7/AAABAAMABQAJAAwACgAEAP3/+P/5//3/AQAFAAcACAAIAAcAAwAAAAAAAwAGAAgABgAFAAcACQAKAAcAAwADAAYADAARABMAEQAQABEAEAANAAoABgAHAAwADwARAA8ADQALAAsACwAKAAcABgAGAAcACQAKAAgABgAFAAUABgAHAAUAAQD/////AQACAAAA/f/7//n/+P/3//j/+f/7////AgAFAAYABQAEAAMABAAFAAYABgAFAAQABAAFAAcACQALAAwADQAMAAsACAAGAAQABgAJAAwADwAOAAoABgADAAEAAAD///7//v8CAAgADgARAA8ACAACAAAAAgAFAAYABQAGAAkADAAMAAgAAgD9//z//v///////v8AAAMABgAGAAQAAAD8//n/+f/8/wIABwALAA0ADAAKAAYAAwAAAP////8BAAUACQANAA0ACgAGAAIAAAAAAAMABgAIAAoADAAMAAsACQAGAAMAAgABAAEAAAD+//7/AgAGAAkACgAKAAcABAACAAAA/v/9////AAACAAMAAQD+//r/9//1//f//P8CAAcABgABAPv/9//3//n/+//9/wAAAgACAAAA+//5//v/AQAIAAwACwAIAAUAAgD///3//f8CAAkADgAQAA4ACQAGAAQAAgABAAAAAQADAAYABgAEAAAA/v///////v/8//j/9v/2//n/+//7//n/+P/4//j/+f/4//f/9v/4//v/AAAEAAYABgAFAAIA/v/9//3/AAAEAAcABgADAAAA/////wEABAAGAAgACgAIAAUAAwAEAAkADQAQABEAEAAPABEAEQAOAAoABwAJAA4A\" type=\"audio/x-wav\" />\n",
              "                    Your browser does not support the audio element.\n",
              "                </audio>\n",
              "              "
            ]
          },
          "metadata": {}
        },
        {
          "output_type": "stream",
          "name": "stdout",
          "text": [
            "Playing audio file: female_segment_9.wav\n"
          ]
        },
        {
          "output_type": "display_data",
          "data": {
            "text/plain": [
              "<IPython.lib.display.Audio object>"
            ],
            "text/html": [
              "\n",
              "                <audio  controls=\"controls\" >\n",
              "                    <source src=\"data:audio/x-wav;base64,UklGRiQEAABXQVZFZm10IBAAAAABAAEAIlYAAESsAAACABAAZGF0YQAEAAASABMAEQANAAkACQAKAAkACAAGAAYACQAMAA0ADQAKAAUA///6//f/9f/1//n///8FAAcABQACAAEAAgAEAAcACAAHAAcABgAGAAYABwAHAAYABAACAAMABgAKAA4ADgAMAAoACQAKAAsACwAKAAcAAwAAAP7//f///wQACQAOABAADQAIAAUAAwAEAAcACQAKAAsADAAMAAsACQAGAAQAAwADAAMAAgAAAAEABAAIAAoABgABAPz/+f/4//n/+//9/wAABAAIAAgAAwD9//n/+P/6////BAAJAAwADQAMAAoABgACAAAAAQAGAAsADwAQAA4ACwAJAAcABwAIAAkACwANAA4ADAAJAAQAAQAAAAIABQAHAAgABwAFAAMAAQABAAAAAAACAAEA/v/8//r/+v/9/wEABQAIAAoACgALAAoACQAIAAkACwANAA4ADgANAA0ADgANAAwADgAQABMAFQAVABIADgALAAgABgAEAAUACQANAA8ADQAIAAIA///+//////8BAAMABQAHAAgABgADAP7//f/+////AAD///7///8CAAYABwAHAAYABAAEAAIA///7//v///8EAAcABgAEAAMABAAHAAcABwAGAAgADAAQABEADgALAAoACQAHAAMAAAD//wAAAQABAAAA/v/+////AQABAP///P/6//n/+f/6//z//f/+//7//P/4//T/8f/y//X/+v///wIAAwABAP3/+P/1//X/+P/9/wIABQAFAAQAAgABAAEAAAD+//z/+//7//7/AAAAAP///v/8//v//f8AAAIAAwADAAQABgAKAA0ADwANAAgAAwACAAMABwAJAAkACAAGAAQAAwADAAQABAAFAAgADQAQABIAEAALAAQA///8//v//f///wEAAgABAAEAAAD//wAAAAABAAAAAAD/////AAABAAMABAAEAAYACAAIAAcAAwAAAAAABAAKAA8AEgASAA4ACgAHAAUABgAJAAwADgANAAoACQAJAAoACAAEAAAAAAADAAkADgAQAAwABgACAP7//P/9/wAAAwAFAAQAAAD7//b/9P/1//f/+P/4//n/+f/4//b/8//y//P/9v/6//7//v/+//3///8DAAcABwAGAAYACAAJAAcABAABAP//AQAFAAcABwAHAAYABwAHAAgABwAGAAYABwAIAAgABwAIAAkACgAIAAYABgAHAAkACAAEAAEAAAACAAQABgAHAAYABgAHAAYABAABAAAAAQAFAAoADQAMAAsACAAFAAMAAgABAAEABAAIAAwADQAJAAMA/v/+////AQAEAAYABwAIAAcABQACAAAAAAAAAAEAAwAGAAoADgANAAoABgAEAAQA\" type=\"audio/x-wav\" />\n",
              "                    Your browser does not support the audio element.\n",
              "                </audio>\n",
              "              "
            ]
          },
          "metadata": {}
        },
        {
          "output_type": "stream",
          "name": "stdout",
          "text": [
            "Playing audio file: female_segment_10.wav\n"
          ]
        },
        {
          "output_type": "display_data",
          "data": {
            "text/plain": [
              "<IPython.lib.display.Audio object>"
            ],
            "text/html": [
              "\n",
              "                <audio  controls=\"controls\" >\n",
              "                    <source src=\"data:audio/x-wav;base64,UklGRiQEAABXQVZFZm10IBAAAAABAAEAIlYAAESsAAACABAAZGF0YQAEAAAGAAkACwAOABEAFQAUABEADQALAAwADwAPAA0ACQAHAAcACAAIAAcABgAGAAcABgAEAAEAAAADAAcADQAQAA8ACgAEAP///f///wIABQAHAAkACQAIAAUAAQD+//v/+v/6//v///8EAAgACQAHAAMAAQABAAEAAgADAAUACQANAA4ADAAJAAcABgAGAAcABgAGAAUABgAGAAUABAAFAAYABgAGAAIA///9//7/AAADAAUABwAJAAkABwAFAAMAAgADAAMAAgADAAUABwAHAAUAAQD+//7/AQAGAAoADQAOAA0ACQAEAAAA//8DAAkADgAOAAsABgACAAAA//8AAAAAAQAEAAgACgAJAAUAAAD8//r//P///wIABAAGAAcACAAGAAMAAQABAAMABQAHAAgACQAJAAkABwAEAAEA//8BAAQACAAIAAgABwAGAAcABgAFAAUABQAFAAQAAwACAAMABgAJAAkACQAGAAIAAAD//wAAAAAAAAEAAwAEAAUABQADAAAA/f/9//7/AQAEAAcACAAJAAgABgACAP///f///wIABAAEAAMAAAD+//7//v/9//z/+v/3//f/+f/7////AQABAAAA///+//7//v/7//f/9v/2//r/AAAFAAUAAwD///r/+P/5//z/AQAHAAsADAAKAAYAAQD+////AAACAAUACAAKAAwADgAMAAkABQADAAIABAAHAAgACAAHAAUAAgAAAPz/+f/4//j//P8AAAQABgAIAAcABwAGAAQAAwACAAEAAAAAAAAAAQAEAAYABwAGAAEA/P/5//n/+/8AAAIABAAFAAcACQAKAAcAAwAAAAEABQAKAA0ADQANAA0ADQAOAA4ADAAKAAkACQAJAAsADgAQABEAEgASAA8ACgAFAAIAAAAAAAIABAAHAAoADgANAAkAAgD9//v//v8DAAkADgARABEADgAJAAMA/f/7//z/AQAHAA4AEgASAA4ABwABAP3/+//8//7/AQAEAAkADAANAAoABAD9//n/+P/7/wAABgALAA0ADQAKAAcABQAFAAYABwAFAAQABgAJAAwADgAOAAsACQAHAAYABgAFAAYACgAOABEAFAAVABQADwAIAAEA/P/6//v/AAADAAUABgAGAAQAAAD8//j/9//5//7/BAAIAAcABQABAP///v/+//3//v8BAAcADQAPAA0ACQAHAAgADAAPABEAEAAQABEAEgATABEADQALAAsADQAQABUAFwAXABUAEQAOAA8AEQATABMAEAAOAA4ADwAQAA8ACwAIAAYABQAGAAgACAAIAAcABQACAAEA//8AAAIABAAGAAcACQALAA4ADwANAAgAAgD+////AwAGAAcA\" type=\"audio/x-wav\" />\n",
              "                    Your browser does not support the audio element.\n",
              "                </audio>\n",
              "              "
            ]
          },
          "metadata": {}
        },
        {
          "output_type": "stream",
          "name": "stdout",
          "text": [
            "Playing audio file: female_segment_11.wav\n"
          ]
        },
        {
          "output_type": "display_data",
          "data": {
            "text/plain": [
              "<IPython.lib.display.Audio object>"
            ],
            "text/html": [
              "\n",
              "                <audio  controls=\"controls\" >\n",
              "                    <source src=\"data:audio/x-wav;base64,UklGRiQEAABXQVZFZm10IBAAAAABAAEAIlYAAESsAAACABAAZGF0YQAEAAAGAAUAAwACAAIAAQD//wAAAwAFAAYABQAFAAYABQACAP7/+f/3//j/+P/5//r//f8CAAcACgAIAAMA/v/9////AgAFAAYABwAIAAkACAAGAAQAAgABAAEAAQAAAP7//f///wAAAAD9//f/8v/w//P/9//7//v/+f/4//f/9v/1//P/8f/v/+//8f/1//j/+//+/////v/8//v/+f/5//n/+////wMABgAGAAQAAQD//wAAAAABAAMABgALAA4ADgALAAQA/f/5//r//P/+/wAAAQAAAP7//f/7//j/9f/z//D/7//x//b/+////wAAAAD///3/+v/3//b/+P/8/wIABwAJAAkACAAHAAYABQAGAAcACgANABAAEgAUABUAFQATABAADAAIAAYABgAHAAcABwAGAAUABQAGAAcABwAFAAIA/////wAAAQADAAUACAAKAAkABQD///n/9v/2//j/+//+/wEABQAHAAUAAAD6//X/9f/5////BQAIAAgABgAEAAIAAgABAAAA//8BAAUACwAOAA0ACgAEAAEAAQAEAAYABgAGAAcACAAIAAUAAgAAAAMABgAJAAoACAAIAAkADAAPABEAEQAQABAADQAIAAMA/v/9////AgAFAAcACAAHAAQAAAD6//X/8f/w//T/+v///wEAAAD9//r/9//2//f/9//4//v///8CAAQABAAEAAIAAAD/////AQAEAAYACAAJAAwADgAPAA4ADgANAA4ADwAPAA0ADAANAA8AEwAVABQAEQAOAA0ADQALAAgABgAEAAQABgAHAAcABgAEAAQABgAHAAcABgAHAAgACAAIAAUAAgAAAAAABAAIAAwADAAIAAIA/P/4//b/9//5//v//v///////v/8//r/+//9/wAABQALABMAGAAaABcAEAAIAAQABQALABIAGQAcAB4AHgAcABkAFAANAAkABwAIAAsADwAQAA8ADQALAAoACQAJAAcABQAFAAcACwAPABAADgAKAAcABgAGAAcABwAGAAUABgAHAAcABwAGAAUABQAGAAUABQAEAAUABwAJAAsADgAQAA8ACwAGAAEA/f/9/wAABQAIAAgABgACAP//+//3//T/9P/2//z/AwAIAAoACAAFAAIA///9//r/+P/4//z/AAAEAAYAAwD9//n/9v/1//f/+//9//////8AAP//AAD///3/+//5//f/9v/4//r//P8AAAMABgAHAAUAAQD9//n/9//5//z/AQADAAQABAACAAAA/v/7//j/9v/2//z/BAALAA8ADQAIAAMAAAD/////AQADAAYACgANAA8ADwANAAoABwAEAAIAAAD//wAA/////wAA//8AAAAA\" type=\"audio/x-wav\" />\n",
              "                    Your browser does not support the audio element.\n",
              "                </audio>\n",
              "              "
            ]
          },
          "metadata": {}
        },
        {
          "output_type": "stream",
          "name": "stdout",
          "text": [
            "Playing audio file: female_segment_18.wav\n"
          ]
        },
        {
          "output_type": "display_data",
          "data": {
            "text/plain": [
              "<IPython.lib.display.Audio object>"
            ],
            "text/html": [
              "\n",
              "                <audio  controls=\"controls\" >\n",
              "                    <source src=\"data:audio/x-wav;base64,UklGRiQEAABXQVZFZm10IBAAAAABAAEAIlYAAESsAAACABAAZGF0YQAEAAAHAAkADAAOAA4ADwAPABAAEwAVABcAFgATABEADwAMAAkABgACAP///v///wAAAgAEAAYABwAHAAcACAAIAAkACgAHAAQAAgAAAAEABAAHAAgABwAIAAkACQAHAAQAAAD+//7/AAACAAUABwAIAAgACAAHAAYABwAHAAYABwAHAAgACwANAA4ADQANAAwADQAOAA4ADQAOAA0ADgAPAA8ADQAKAAkACQAJAAcABQACAAAAAgAFAAgACgAJAAgABwAIAAcABwAGAAYABwAHAAUAAgD+//3//v8AAAAAAAD///7///8BAAEA///8//n/+v/8////AAD/////AAABAAAAAAAAAAEAAwAGAAcABQAEAAYACgAOABEAEAANAAwADAANABAADwAMAAoACAAFAAQAAgAAAP//AgAFAAYABgAEAAAA/v/+/wEABAAGAAcACAAIAAcABgAGAAQAAwAAAP3/+v/4//j/+P/5//n/+P/4//n/+f/6//n/+P/4//j/+f/8////AAABAAEAAgAEAAcACQAJAAgABwAHAAYABwAHAAgABwAGAAMA///+//3//f/+/wAAAAAAAP///v/+/////v/9//7/AAABAAAA///+//7//v8AAAEA///+//7//////wAA///+//7/AAABAAAAAAD//wAAAAABAAAA////////AQAEAAYABwAIAAgABgAFAAYABgAFAAYABwAHAAYABQAFAAcACgAOABAAEAAOAAoABwAFAAUABgAIAAgABQACAAAAAAABAAUABgAGAAYABQAGAAcABwAIAAkACAAHAAUAAwACAAEAAAABAAAAAQACAAQABwAIAAcABgAFAAYABwAIAAgABwAHAAYABgAHAAcABgAFAAUABgAHAAcABwAHAAgACwAOAA8ADwAOAA0ADQAOAA8ADwANAAoACAAGAAUABQAGAAcABgAGAAYACAALAA4ADwAOAA4ADwAPAA4ADQAKAAYAAwABAAAAAQAAAP////8AAAIABQAHAAcABgAFAAUABAAFAAUABAAFAAcACQAJAAgABgAGAAcACQAMAA4ADQAKAAgABgAEAAUABwAHAAgABwAFAAUABgAHAAkADAAOAA4ADgANAA4ADwAPAA4ADAAKAAgACAAJAAgABQABAAAAAAABAAMAAwABAP7//f/+/wEABAAGAAYABwAGAAYABwAGAAcABwAIAAcABgAGAAcACAAIAAcABgAEAAUABwALAAwADAAJAAYABQAFAAYABwAGAAUABgAGAAcACAAHAAgABwAGAAYABwAIAAgABwAEAAEAAAABAAAA/v/7//j/+f/9/wAAAgABAP///v/+/wAAAgACAAEAAAAAAP//\" type=\"audio/x-wav\" />\n",
              "                    Your browser does not support the audio element.\n",
              "                </audio>\n",
              "              "
            ]
          },
          "metadata": {}
        },
        {
          "output_type": "stream",
          "name": "stdout",
          "text": [
            "Playing audio file: female_segment_40.wav\n"
          ]
        },
        {
          "output_type": "display_data",
          "data": {
            "text/plain": [
              "<IPython.lib.display.Audio object>"
            ],
            "text/html": [
              "\n",
              "                <audio  controls=\"controls\" >\n",
              "                    <source src=\"data:audio/x-wav;base64,UklGRiQEAABXQVZFZm10IBAAAAABAAEAIlYAAESsAAACABAAZGF0YQAEAADq/wgABADg/7z/rv+z/7z/v/+9/8H/zP/T/8j/tv+v/8D/4//9//X/zP+Z/37/jP+0/9X/1v+6/5v/l/+u/87/3f/T/73/rf+q/63/s/+//9H/4//n/9X/uv+s/7//6/8VACYAFgDx/8b/pv+Z/6L/v//i//X/6f/G/6j/qP/P/wcALgAtAAwA5v/W/+P/AQAcACsANQBBAE4ATQAzAAYA4f/i/wwAQQBfAFYANgAiADIAYACMAJsAhwBmAFAAUQBdAGAAUQA3ACcAKgA9AE4AUABBAC8AJwAuADgAOwA5ADoARABXAGEAVgA5ABkADgAiAEUAXwBhAE0AMwAkAB4AFAD+/+P/2f/v/x8ARwBJABwA3f+7/9P/GQBcAGsAOgDr/7X/uv/z/zQAUQA7AAoA4v/f//7/JgA8ADQAGwAFAP7/AgAIAAYA/P/1//b///8DAPf/2f+z/5f/jP+T/6L/sf+6/77/uv+w/6D/jv+C/37/gf+J/5L/mv+e/5v/j/9//3j/gv+b/7X/wP+5/63/rP+//9//+f///+7/0/+6/6v/ov+d/5//r//T//v/FQATAP//8/8HADAAUABMACkABgACACQAUwBvAG0AWABEADoAOwBEAFkAfACnAMgAzgC4AJUAfgB+AI4AlwCIAGcASgBEAFgAcABzAFoAOAArAD4AagCXALYAyQDgAAEBHwElAQMBvwByAD0ALgA/AFkAZgBhAFQAUQBiAIIAlwCIAEcA3f9t/yH/GP9G/3z/ff8q/5v+E/7Y/QD+XP6W/m7+4v02/cv83/xl/RP+kv61/oz+S/4m/i3+U/57/pH+jf52/lP+Kv4C/uH90f3h/Rr+ff78/n7/6f8xAGEAkADLAA0BQwFfAV8BWQFlAY8BzQEJAjICSgJfAoACqALLAuEC8QIRA0kDjAO/A80DvQOoA6UDrwOxA5sDcgNOA0IDSwNPAzcDAAPAApQChgKLAogCZwIpAuMBqgGGAWoBQwEMAcgAhABHABYA7v/L/6n/gP9M/wr/xf6G/lD+Hf7s/cD9oP2Q/Yb9bf07/fL8pPxf/Cv8A/zm+9X70PvV+9n72fvZ++T7A/ww/F78ffyG/Hr8X/w//Cf8JvxK/Jf8AP1q/br96/0J/jD+dP7T/i//Z/9t/1P/Rf9t/9j/agD1AFcBjQGyAe4BVALZAlgDsAPRA8QDnwN2A08DLAMRAwcDFwNAA3ADkgOaA5EDhwOBA3cDVQMYA8sCfAIuAs8BTwGzABwArv96/3H/eP91/2P/R/8t/x//J/9D/2H/ZP84/+P+if5M/jD+G/7r/Zf9Ov39/PX8Gf1L/Xf9nv3T/SH+gf7e/iX/Vf98/6L/w//T/83/\" type=\"audio/x-wav\" />\n",
              "                    Your browser does not support the audio element.\n",
              "                </audio>\n",
              "              "
            ]
          },
          "metadata": {}
        },
        {
          "output_type": "stream",
          "name": "stdout",
          "text": [
            "Playing audio file: female_segment_41.wav\n"
          ]
        },
        {
          "output_type": "display_data",
          "data": {
            "text/plain": [
              "<IPython.lib.display.Audio object>"
            ],
            "text/html": [
              "\n",
              "                <audio  controls=\"controls\" >\n",
              "                    <source src=\"data:audio/x-wav;base64,UklGRiQEAABXQVZFZm10IBAAAAABAAEAIlYAAESsAAACABAAZGF0YQAEAAC//8b/9/9JAKEA5gASATcBZAGYAcUB5wEKAj8CiQLVAgwDLANJA3ADnwPHA9sD3gPcA9gDzgO/A7oD0gMDBCYEFQTNA3gDSQNUA3cDgANWAw8D1QLBAscCzAK7ApgCcQJKAhgC0gGAAT0BIAEoATcBIQHMAEMAr/84/+3+uP56/ij+0f2W/Yz9qf3N/df9t/16/Tn9Df3+/Pr84fyg/D383fut+7v76/sP/Az87/vY+9378vv6++774/v3+y78bPyR/JT8jfyW/LX82fz0/An9IP01/Tj9Jv0Q/Rv9W/27/Q3+Lv4j/hP+JP5d/qv+8/4l/zr/Nf8g/xD/G/9K/43/xP/a/9T/0P/s/ywAeQC0ANEA2ADbAOQA9wARAS4BTgFvAY0BpwG/AdwB/wEnAksCaQJ/Ao0ClAKUApAClAKrAtwCHwNeA38DegNdA0cDTgNqA30DawMxA+gCsQKYApYCpQLHAv8CQANmA1cDHAPgAsYCyAK+Ao0CRwIZAhwCNwI2Av0BoAFQASkBGgEJAfEA5gD3ABoBKQENAdgAsQCwAMkA2gDKAJ0AaQBFADQALQAqAC0AOABDAEEAKAD9/9b/xf/M/9j/x/+O/0L/B////ij/Yv+K/47/df9S/zT/Hv8T/xj/L/9Q/2T/Wf8u//L+vP6h/p/+qv61/rz+vP60/p7+df5B/hX+Bv4Y/jf+Q/4p/vT9yP3D/en9IP5L/l7+XP5S/kP+Lf4Q/vf97v38/Rv+Pf5V/mL+ZP5f/lf+Tf5G/kz+ZP6J/rL+0/7p/gH/Iv9J/2D/V/85/yz/TP+L/7n/rv97/1n/ff/d/zYATQAjAPH/8f8lAGIAggCFAIkAogDCAMoAswCYAJgAuQDdAOkA2wDQAOcAIQFhAX8BbQE+ARwBJQFRAYEBkwF/AWABWQF/AcMB/gEOAugBpQFpAVIBZwGWAcEB0gHHAbYBuQHbARECPgJJAjACCALtAeoB8wHzAd8BuQGVAYIBgwGRAZ0BnQGPAXsBawFlAWgBcQF0AWgBSgEgAfUA2ADOAM4AzAC7AJwAfQBvAHcAjgCjAKoAoQCPAHgAWgAvAPP/sf97/2b/dP+Y/7r/yf/B/7L/rP+1/8v/4//u/+b/x/+a/23/Vv9c/3T/hf99/2D/Q/8z/yj/D//j/r/+yf4I/1v/if91/zL/8f7V/tv+5P7c/sn+xf7e/g7/QP9e/2T/Wv9E/yX///7V/rL+nf6Y/qL+tf7J/tT+1v7Z/uv+EP87/1P/UP9A/0f/eP/D//j/7f+k/0n/Gv80/4P/1f8BAAEA8//7/ygAbwCvAMwAvgCUAGYARQA9AEwAaACFAJoAowCnALQA0AD2ABABDQHtAMMA\" type=\"audio/x-wav\" />\n",
              "                    Your browser does not support the audio element.\n",
              "                </audio>\n",
              "              "
            ]
          },
          "metadata": {}
        },
        {
          "output_type": "stream",
          "name": "stdout",
          "text": [
            "Playing audio file: female_segment_42.wav\n"
          ]
        },
        {
          "output_type": "display_data",
          "data": {
            "text/plain": [
              "<IPython.lib.display.Audio object>"
            ],
            "text/html": [
              "\n",
              "                <audio  controls=\"controls\" >\n",
              "                    <source src=\"data:audio/x-wav;base64,UklGRiQEAABXQVZFZm10IBAAAAABAAEAIlYAAESsAAACABAAZGF0YQAEAACkAJYAjwB/AGUATwBJAFYAagB9AIoAlQCbAJIAdgBMACcAGAAnAEcAZgB2AHIAWgA3AA8A7v/h//L/HgBaAJIAtQC4AJwAbgBIAD0AUABxAIoAjgCLAJYAtwDeAOwA1ACvAKYAyAADAS0BMAEbARIBKwFVAWkBUgElAQ8BLgF0Aa4BqwFfAfMApACdANYAIAFHATQB+wDEAK0AtgDFAL8AnABrAEQAPABaAIgApQCXAFYA+P+l/3n/ff+g/83/8/8HAAQA4v+g/07/C//1/hX/Uv+F/4v/X/8d/+v+4/7//iT/O/86/y7/J/8t/zv/R/9K/0H/Jf/4/sb+qv69/vz+RP9r/2H/Pv8o/zL/T/9i/1//Vv9f/37/m/+e/4L/X/9P/1f/Zv9p/13/U/9i/4//w//d/9L/sP+W/5z/v//j/+3/3v/I/7z/vf/E/9H/7/8eAEoAUwAsAPP/4P8ZAIoA7wAEAbkAPwDk/93/JACGAMsA5gDrAPgAGgE9AUgBMQEQAQYBIgFSAW4BWAEXAdEArgC5ANsA9QD4APYACAEtAUoBQQEUAegA4QD4AAAB0wB6ACkAEQAyAF4AcABoAGMAcwCGAHsARQAGAOn//f8iACkA/v++/53/uf/8/zIALwD1/7H/k/+o/8//3f/E/57/kP+m/8j/1P/C/6j/of+2/9f/7v/5//7/AgD//+v/y/+4/8T/6v8PABIA8f/D/63/vP/m/wwAEADx/8X/r//E//n/LQA/ACEA5v+x/6H/u//o/wYA///Y/63/nf+1/+f/FAAdAPv/xP+Y/43/ov/F/9z/3v/T/8n/yv/T/9j/zv+8/6v/qf+0/7//xv/J/9H/4v/z//T/3//E/7b/w//i//z//f/h/7f/lv+L/5f/sv/N/9z/3P/O/77/t/+7/8L/xv/J/9P/5////wkA+//f/83/1P/s////+v/g/8f/xP/b////IQA6AEgASgA9ACwALABOAIoAwwDWALQAdQBDAD0AZwCmANYA4gDPALMAogCmALsA1ADiAOUA4wDlAO0A9ADuANkAwACyALcAzQDlAPUA9gDsANgAuwCYAHoAbQB7AJsAsQCkAHEAMgARACoAaQCWAHwAHgC3/4//uf8FACwADgDQ/63/uv/S/8b/l/91/4v/y//4/+P/m/9e/1n/gv+o/6f/i/97/4r/o/+f/3D/Mf8U/zD/cv+q/7L/iv9Y/0n/aP+d/8T/zv/E/7r/uP+y/5v/gP94/43/rf+4/6H/fP9t/4b/uf/i/+3/3//Q/83/1v/e/9//3f/d/+H/4//f/9T/w/+x/6T/o/+2/9v/AwAaABUA+v/h/93/9f8cAD0ASwBHADQAHAACAO//\" type=\"audio/x-wav\" />\n",
              "                    Your browser does not support the audio element.\n",
              "                </audio>\n",
              "              "
            ]
          },
          "metadata": {}
        },
        {
          "output_type": "stream",
          "name": "stdout",
          "text": [
            "Playing audio file: female_segment_43.wav\n"
          ]
        },
        {
          "output_type": "display_data",
          "data": {
            "text/plain": [
              "<IPython.lib.display.Audio object>"
            ],
            "text/html": [
              "\n",
              "                <audio  controls=\"controls\" >\n",
              "                    <source src=\"data:audio/x-wav;base64,UklGRiQEAABXQVZFZm10IBAAAAABAAEAIlYAAESsAAACABAAZGF0YQAEAADs/wAAKQBWAGsAWAAnAPr/8v8bAFkAggB9AFcAMgAqAD4AUgBRADgAHgAdADgAWABmAFYAOwAvAD0AVgBhAE4AKAALAAsAIgA5AD4AMgAmACYALAApABgAAgD1//X/+P/w/+D/1P/U/+H/8////wgAEwAhACwALwAoABsAEQANABAAGgAoADUAOQAtAA4A6f/S/9f//P8wAFUAWwBEACQAFQAgADgASgBMAEQAPwBEAEwATgBHAD4AOQA4ADMAJgAWAA8AFQAkADIANQAxAC0AKwAoAB8ADwD///f/+f8CAAgAAQDw/9r/yf/F/8//4v/w//P/6v/f/9n/3P/f/+D/3P/a/9//6v/w/+n/2P/L/8z/3v/1/wAA+P/k/9b/2P/s/wEACAD+/+//6v/2/woAFwAQAPn/5f/k//j/FQApACcAFQAAAPT/9f/7//3/9v/q/+T/6f/3/wcAEgAVABIACQD9/+7/3v/S/8z/zv/S/9P/z//H/7//vf/D/87/2f/b/9T/yP/C/8X/zf/S/87/x//F/8r/0P/M/73/r/+v/77/0f/X/8v/u/+2/8L/2P/r//X/+/8DAAoADQAKAAgADQAVABYACADw/9z/3//6/x0AMAAmAAsA/P8PAEAAcwCGAHEASAAqACUAMgA9AD0AOAA1ADQAKwAZAAsAEQAtAEgATwA/ACkAIAAnAC8ALQAmACgANgBFAEMALwAbABwAMQBHAEwAPgAtACYAKwAyADYAOgA/AEAANAAYAPn/6//6/xoANAA4ACgAFAAMABIAHAAjACMAIAAeAB0AGQANAPr/5v/b/93/6f/5/wUABQD3/97/wv+w/7X/zv/q/+//0/+m/4z/oP/Z/w4AGADz/73/nv+p/8z/6f/u/9//zP/C/8P/yv/R/9b/2P/Y/93/6P/4////8//Z/8X/y//q/wsAEgD8/+L/4P/5/xEADQDw/9X/1P/o//r/9f/i/9b/3P/m/+P/1v/W//L/HwA3AB4A5P+2/7f/6P8lAEYAPAAWAPH/3f/d/+b/7//2//j/9P/p/9n/0P/b//n/GQAiAAoA4//P/+X/FwA+ADwAFgDt/9//7/8HABAADAAIAAwAEQAKAPr/8P/9/x0AOgBBADEAHAATABYAGwAVAAMA9P/z/wMAGAAoACkAHwATAA0AFAAiADAANQAuACAAFQAUABkAHQAdAB8AJAAnAB4ACADx/+//CwAxAEMAMAAKAPf/DAA1AEsAMwD+/9b/3v8JAC4AKAD4/8L/sf/U/xQARgBMACoA9//S/8n/1f/o//r/BgAKAAQA8v/f/9v/6v8AAAgA+P/f/9f/6v8EAAkA7f/E/7P/yf/2/xgAFwD3/9D/\" type=\"audio/x-wav\" />\n",
              "                    Your browser does not support the audio element.\n",
              "                </audio>\n",
              "              "
            ]
          },
          "metadata": {}
        },
        {
          "output_type": "stream",
          "name": "stdout",
          "text": [
            "Playing audio file: female_segment_44.wav\n"
          ]
        },
        {
          "output_type": "display_data",
          "data": {
            "text/plain": [
              "<IPython.lib.display.Audio object>"
            ],
            "text/html": [
              "\n",
              "                <audio  controls=\"controls\" >\n",
              "                    <source src=\"data:audio/x-wav;base64,UklGRiQEAABXQVZFZm10IBAAAAABAAEAIlYAAESsAAACABAAZGF0YQAEAAC3/7X/xP/c//f/DQAXAAwA7//S/8j/3f8EACAAGQD0/9L/0//3/x8AIAD2/8j/xv/0/ygAMgAMAOL/4f8OADwAOAAAAMX/uv/o/ygARwA0AAgA7P/0/xAAIAATAPL/1//b//z/HwArABsAAADx//r/EgAmACkAHQAEAOf/1f/b//z/JgA0ABMA2v+1/8f/AwA1ADIABQDe/+j/FgA2ACMA7//L/9v/DwA2AC4ABwDp//D/FAAyADAAEgDw/9//4f/t//f/+v/+/wYADQALAP7/7v/q//j/DAAUAAwA/v/7/wQACQD5/9r/x//V//n/EQAHAOz/5/8IADUAQgAaANv/uv/S/wsAMQAmAPj/0//U//X/FgAaAAIA5//f/+z//P/7/+3/4//s/wMADgD9/9//1f/x/xwALwAUAOP/yv/h/xEALQAgAAEA8////w8ACADw/+b///8qAD8AKAD2/9H/1f/3/xUAFgAAAOz/7f/+/wkA///o/93/7f8QACkAIwADAOT/5P8CACMAJwAMAOv/4P/t//7/+//q/9//6f8BABMADwD+//H/8v/7/wQACgAPABAABwDz/93/2//w/w4AGAAGAOv/5f///yUANAAfAPf/3P/i//3/FQAZAA8ABgAGAA8AFQARAAoACQAQABkAHQAXAA8ADQAUABwAGwALAPT/6P/z/xEALQAzAB0A+P/d/+D//P8dACwAIAACAOj/4v/u/wEACwAHAPj/6v/i/+X/8P/+/wgABwD4/+T/1//X/93/3v/V/8r/yP/Q/9j/1v/N/8z/3/8BABoAEwDx/8z/v//V//v/EwAJAOb/xv/A/9b/9/8KAAUA8//k/+H/5f/p/+7/+v8NABsAFQD4/9j/zf/d//f/BQACAPz/AwAUABwAEAD2/+f/8/8PACIAGgABAO7/8f8FABsAJAAfABUADgANABIAGwAlACYAHAALAPz/+P8AAAgACAACAAEADAAbACEAGQALAAYADwAbABgABgDy/+7//P8MAAoA9//j/97/6v/7/wEA+f/q/9//3v/h/+H/4P/h/+v/9v/3/+f/zv/A/8//9f8VABYA9//T/8j/3/8AABAABQDx/+//AgAYAB0ADwD//wIAGQAzAD4AOAArACUALAA5AEEAPwA2AC0AKQApACwALQAtAC4ALgAtACoAJwAlACQAIgAaAA4ABQAFAAsAEQANAPz/6v/i/+f/8P/v/9//xv+1/7f/xf/O/8X/qf+K/3//kP+t/8L/vv+m/43/hv+P/5//rP+w/6//rP+o/57/lf+S/5v/rP+7/8D/uf+r/6H/ov+w/8b/3v/w//T/7f/l/+j/+f8LAA8AAgDz//X/DAApADoA\" type=\"audio/x-wav\" />\n",
              "                    Your browser does not support the audio element.\n",
              "                </audio>\n",
              "              "
            ]
          },
          "metadata": {}
        },
        {
          "output_type": "stream",
          "name": "stdout",
          "text": [
            "Playing audio file: female_segment_45.wav\n"
          ]
        },
        {
          "output_type": "display_data",
          "data": {
            "text/plain": [
              "<IPython.lib.display.Audio object>"
            ],
            "text/html": [
              "\n",
              "                <audio  controls=\"controls\" >\n",
              "                    <source src=\"data:audio/x-wav;base64,UklGRiQEAABXQVZFZm10IBAAAAABAAEAIlYAAESsAAACABAAZGF0YQAEAAA2ACoAKgA6AE4AVQBLAD0AOgBHAFwAawBtAGcAYgBiAGQAZABiAGAAYgBmAGwAcgB2AHUAcABqAGoAcAB4AHkAbABVAEMAQQBQAGEAZQBVADgAIAAYAB4AKQArACIAGAAVABcAFwANAPz/8v/3/wQACAD4/93/zP/T/+T/5v/P/67/of+x/87/2P/D/6D/jP+U/6v/t/+u/5z/kP+V/6H/p/+k/5z/lv+W/5j/nP+g/6X/pv+h/5b/jv+Q/5v/qf+z/7X/sv+t/6v/rP+z/8H/0P/a/9X/wf+r/6P/s//T//D/+P/o/83/vP/D/9v/9P////f/6v/m/+3/+/8CAAEA/v8GABkAKwAwACUAEQAEAAgAGAArADMAKwAcAA8ACgARABwAJwAuADAAMQA0ADcAOgA7ADcAMAAnACAAIAAlACsALQAqACQAIwAqADcARABHAD8AMwAuADMAQABMAEsAPwA0AC4AMAAzADAALQA0AEQAUgBPADwAKgAuAEoAZgBoAEsAJQAUACIAPABIADsAIgARABQAIwAsACgAGgARABEAEwAPAP//6v/f/+X/9v8DAAAA7P/T/8b/zP/f//D/8//l/87/uP+u/7T/xf/Y/97/0/+7/6b/of+w/8j/2P/Z/8z/vf+0/7L/sv+x/7L/tP+4/73/v/+9/7r/uv++/8T/yv/M/8z/y//K/8f/wP+5/7v/yP/a/+T/2//F/7P/tv/N/+j/9f/x/+X/3f/d/97/3P/Z/9//7/8BAAgA/v/p/9r/2//q//3/CAAGAPn/7v/q//D//P8JABQAHAAeABgADQAFAAgAFgAjACUAGgAOAA8AHAAoACMAEwAKABMAKgA3ACsADAD1//j/DgAiACMAEwAEAAYAFQAiACMAGwAVABgAIgAnAB8ADgD///z/BgAWACIAIwAbABIAEAAVAB0AIgAfABkAFwAdACYAKgAkABkAEwAaACgAMwAzACkAIgAkAC8ANwA1ACsAIwAjACsAMQAtAB8AEQAQABkAIgAdAAoA9f/w//7/EgAXAAgA8//t//v/DgAQAPv/3v/Q/9n/6v/w/+T/0v/K/8//2v/f/9z/2f/b/9//3//Z/9L/z//U/97/5f/l/9//1//S/9H/1P/Z/97/4f/g/9v/1f/R/9H/1v/g/+n/7v/u/+r/5f/i/+H/4//o/+7/8v/w/+j/3f/a/+H/8P/8//z/8v/n/+P/6f/z//v///8CAAMAAgD7//D/5v/m//H///8GAAEA9P/r/+7//P8LAA8ABgD2/+3/8P/8/wcACwAJAAcABwAIAAQA///8/wAACgASABIACgAAAPv/+//+//7/+//4//b/9f/3//v/AAAEAAcA\" type=\"audio/x-wav\" />\n",
              "                    Your browser does not support the audio element.\n",
              "                </audio>\n",
              "              "
            ]
          },
          "metadata": {}
        },
        {
          "output_type": "stream",
          "name": "stdout",
          "text": [
            "Playing audio file: female_segment_46.wav\n"
          ]
        },
        {
          "output_type": "display_data",
          "data": {
            "text/plain": [
              "<IPython.lib.display.Audio object>"
            ],
            "text/html": [
              "\n",
              "                <audio  controls=\"controls\" >\n",
              "                    <source src=\"data:audio/x-wav;base64,UklGRiIEAABXQVZFZm10IBAAAAABAAEAIlYAAESsAAACABAAZGF0Yf4DAAAHAAMA/v/8//7/AQAEAAEA+f/y//H/9v/9/wEA/f/4//f/+//8//f/7//s//f/CwAYABYACAD7//z/CwAcACMAHAAOAAIA+//6//z//v8EAA0AFwAeACAAHAAWABQAGgAlAC8AMgAqABkABwD9/wAACwAXAB0AGgATAA8ADwASABYAFwAWABQAEwASABAADwAMAAkABAAAAPz/+f/6/wAABwAJAAMA+v/0//f/AAAFAAIA+f/0//j/AgAGAPv/6P/Z/9j/5P/x//X/7v/l/+D/4//m/+b/4v/c/9n/2v/g/+b/6//r/+j/4//h/+X/7v/0//P/6//h/9z/3P/e/9//3v/c/9r/2f/a/9v/3v/l/+z/8P/u/+n/5v/p//D/9f/1/+3/5P/h/+b/7v/1//X/7//r/+//9v/5//T/7P/t//r/DAAXABQACgAEAAoAFQAaABcADwAOABgAJQArACQAFQAIAAcAEQAgACsALAAlABkAEAAOABQAHgAlACQAHQAVABMAFgAbACAAIAAbABYAFAAVABcAFwAVABMAEwAUABIACwABAPr//P8FAA4AEAAJAP7/9//6/wYAEQAUAA0A///y/+v/6//w//b//f8CAAYAAwD7//H/6f/q//T/AAAGAAIA9P/n/+L/6P/z//v//v/+////BAAJAAgA///0/+//9f8CAAwADAAFAP3/+f/4//v//P/8//7/BQANABIADwAFAPr/9f/2//z/AQADAAIAAQACAAAA+//1//H/8v/4////AAD6//L/7f/u//X//P/+//v/9f/v/+z/6//r/+3/9f///wgACAD9/+z/4P/f/+j/9P/7//z/+f/1//H/7v/r/+n/6v/y//7/BwAJAAMA+P/w/+7/8v/4//r/+v/7//3///////r/8//s/+n/6//w//b/+v/9//7/+//0/+z/6P/s//j/BgARABMADwAJAAYACAALAAwACwAMAA4ADgALAAYAAgADAAgACwAKAAYABQAKABEAFQARAAkAAQACAAcADAAMAAgAAwABAAQABgAGAAQAAgADAAgADgAQAA8ACgAGAAcACwAPAA8ACgAEAP///v8CAAoAEwAWABAABQD5//T/+v8EAAwADAAFAP3/+//+/wMABQADAP3/9//y//H/8v/3//3/AgADAAEA/f/5//f/+P/7/wMADQAVABQACQD6//L/9v8CAA4AEAAIAP//+v/6//r/+f/2//b/+f/9//3/9//y//H/9v/+/wEA/P/y/+n/6f/z////BQADAPr/8P/r/+v/7f/w//L/9P/2//n/+f/1//D/7v/x//f//v8CAAIA/f/2//L/8v/3//3//v/7//T/7v/t/w==\" type=\"audio/x-wav\" />\n",
              "                    Your browser does not support the audio element.\n",
              "                </audio>\n",
              "              "
            ]
          },
          "metadata": {}
        },
        {
          "output_type": "stream",
          "name": "stdout",
          "text": [
            "Playing audio file: female_segment_52.wav\n"
          ]
        },
        {
          "output_type": "display_data",
          "data": {
            "text/plain": [
              "<IPython.lib.display.Audio object>"
            ],
            "text/html": [
              "\n",
              "                <audio  controls=\"controls\" >\n",
              "                    <source src=\"data:audio/x-wav;base64,UklGRiQEAABXQVZFZm10IBAAAAABAAEAIlYAAESsAAACABAAZGF0YQAEAAAGAAcABwAIAAcABQAFAAQABQAGAAYABQAGAAYABwAGAAUABAAFAAcACAAJAAgABgAFAAYABwAIAAgABwAIAAcABwAHAAYABgAGAAcABwAGAAQAAQD///7////+/////v/9//7///8AAAAAAAD/////AQAEAAYACAAJAAgABQACAAAA//8AAAEAAQAAAAAAAAAAAP//////////AAD//////v/9//3/AAACAAMAAwABAAAAAAD///7//v/9//7/AAAEAAYABwAGAAUABQAHAAgACAAIAAUAAQD+//z//f8AAAMABQAHAAgABwAGAAYABwAHAAYABwAHAAcABgAEAAEA/////wAAAQACAAIAAAD///7//v/9//7/AAAAAAEAAAD///7//v///wIABQAIAAsADAANAA4ADgANAAwADQAOAA8AEAAPAA8ADgAPAA4ADAAJAAcABgAGAAcACAAHAAUAAgAAAP//AAACAAIAAgABAP////8AAAEAAQAAAP///////wAAAAD///7//f/+//7///8AAAAA///+/////////wAAAQABAAAAAAABAAEAAgABAAEAAgABAAAA///+//7/AAADAAYACAAHAAUABAAFAAcACQAIAAYABgAFAAYABgAHAAgACAAIAAcABgAGAAcABwAIAAkABwAGAAYABwAJAAsACQAEAAEAAAACAAUABwAIAAcACAAKAAwADAAKAAYAAwAFAAgACgAJAAYAAQD+//z//f///wAA//////7///8BAAEAAAD///7/AAADAAcACAAFAAEA/v/8//7/AgAGAAgACAAHAAcABwAIAAkACAAHAAYABwAIAAcABgAEAAIAAAD///7//v///wAAAAD/////AAD/////AAD/////AAABAAEAAAD+//3//f/+////AAAAAP///v/+//7////+//7///8AAAMABQAGAAcABgAEAAQABQAFAAcACAALAA4AEAAQABAADQAJAAYABQAFAAcACAAHAAUAAQD///7///8BAAEAAQAAAP////8AAAEAAQAAAAAAAQAAAAAAAQAAAAAA/////wAAAAAAAP///v///wAAAwAGAAYAAwD+//v/+////wMABgAGAAMA///+//////8AAAAAAAAAAAEAAwAEAAUABgAGAAcABwAGAAcACAAJAAcABAABAP//AAABAAAA///+//7////+//7////+////AAABAAAA///9//v/+f/4//f/+P/5//r//P/+/wAAAQAAAP7//f/9////AgAFAAcABwAHAAcABgAGAAYABAADAAMABAAFAAUABgAGAAcABwAGAAYABAABAAAA///+//////8AAAEAAgAEAAYA\" type=\"audio/x-wav\" />\n",
              "                    Your browser does not support the audio element.\n",
              "                </audio>\n",
              "              "
            ]
          },
          "metadata": {}
        },
        {
          "output_type": "stream",
          "name": "stdout",
          "text": [
            "Playing audio file: female_segment_53.wav\n"
          ]
        },
        {
          "output_type": "display_data",
          "data": {
            "text/plain": [
              "<IPython.lib.display.Audio object>"
            ],
            "text/html": [
              "\n",
              "                <audio  controls=\"controls\" >\n",
              "                    <source src=\"data:audio/x-wav;base64,UklGRiIEAABXQVZFZm10IBAAAAABAAEAIlYAAESsAAACABAAZGF0Yf4DAAAGAAcABgAHAAcACAAJAAoACgAJAAgABwAHAAcACAAIAAcACAAIAAgABwAGAAUABQAGAAcACAAHAAYABwAHAAcACAAIAAcABwAIAAgACAAHAAcABwAGAAQAAgAAAAAAAgAFAAcACAAHAAcACAAJAAkACAAHAAUABQAEAAQABAAGAAcABgAEAAEA/v/8//7/AQAEAAYACAAJAAgABQABAP3//P/+/wEABgAIAAcAAwAAAP7//v//////AAAAAP///v/8//n/+f/7//7/AAABAAEAAAD/////AQAEAAYABwAHAAYABAAFAAcACwAOAAwACQAFAAMABQAHAAkABwAFAAEA/v/9//7/AAAAAP//AAAAAAAAAQAAAAAAAAD///7//v///wAAAAABAAAA///+////AQABAAAA////////AAAAAP///v/+////AAABAAAA///+/wAAAQAAAAAA//8AAAAAAgAEAAYABwAJAAoADAAMAAsADAANAA8AEAAOAAoABwAFAAQABQAGAAcABwAHAAYABQAEAAIAAAD//wAAAAD//wAAAAD//wAAAAABAAIAAgABAP3/+v/4//n//v8BAAEAAAAAAAEABQAIAAgABgAEAAQABgAHAAgACAAIAAYABQAGAAcACAAHAAYABAABAP7//f/+/wIABgAIAAcABgAHAAcACAAJAAgABwAJAAwADwARABAADAAKAAkABwAHAAYABwAIAAgABwAFAAMABAAGAAcABwAHAAYABwAHAAgABwAGAAQABgAIAAkACQAGAAEA/////wIABQAIAAgABwAHAAYABgAFAAMAAAD+//7///8AAAAAAAD/////AAAAAAAA//////7///8BAAIAAQAAAAAA//8AAAMABQAGAAUABAADAAQABgAHAAcABgAGAAYABwAHAAcACAAHAAYABwAIAAgABwAHAAcACAAJAAkABwAFAAQABQAJAAwADgANAAoABgAFAAUABgAHAAcABgAEAAUABwAHAAcABAACAP///v///wAAAAAAAP//AAABAAEAAgAAAP3/+v/5//v//f///wAAAAD///7//////wAAAQAAAAAA/////wAAAAABAAAAAAD//wAA/////wAA//////7///8AAAAAAAD///////8BAAMABQAHAAgABgADAAEA///+//7//v//////AQAEAAcACAAIAAcABwAHAAYABQAFAAYABwAJAAkACAAHAAcABgAHAAgABgADAAEA//8AAAMABwAIAAgABQABAP7//v///wIABAAFAAQAAwACAAIAAwAEAAUABgAHAAcABwAGAAQAAQD///7///8AAAAAAAD/////AAAAAP///v/+/w==\" type=\"audio/x-wav\" />\n",
              "                    Your browser does not support the audio element.\n",
              "                </audio>\n",
              "              "
            ]
          },
          "metadata": {}
        },
        {
          "output_type": "stream",
          "name": "stdout",
          "text": [
            "Playing audio file: female_segment_54.wav\n"
          ]
        },
        {
          "output_type": "display_data",
          "data": {
            "text/plain": [
              "<IPython.lib.display.Audio object>"
            ],
            "text/html": [
              "\n",
              "                <audio  controls=\"controls\" >\n",
              "                    <source src=\"data:audio/x-wav;base64,UklGRiYEAABXQVZFZm10IBAAAAABAAEAIlYAAESsAAACABAAZGF0YQIEAAD//wEAAwAFAAcABwAGAAYABwAGAAYABwAGAAYABwAGAAYABwAHAAYABQADAAIAAAD+//3///8AAAEAAQAAAP3/+v/5//r//P/+/wAAAQACAAMABQAGAAYABwAIAAcABwAIAAcABQAFAAYACAALAA0ADQALAAgABgAGAAcABwAIAAcABwAGAAcACAAIAAgABwAGAAYABwAIAAgACAAFAAIAAQAAAAAAAAABAAAA//8AAAAA//8AAP////8AAP////8AAP///////wIABAAGAAcACAAHAAYABQAGAAcABwAGAAcABgAGAAcABwAHAAYABwAIAAcABgADAAAA/v/+////AgAFAAgACQAIAAcABwAHAAgABwAGAAMAAgABAAIABAAHAAkACAAGAAYABgAIAAsADwARABAADgALAAcABQAGAAcACAAHAAUAAwABAAEAAgAFAAUABAACAP///v/+/wAAAQABAAAA///+////AAABAAAA///+//3///8CAAUACAAJAAgABwAGAAYABwAHAAYABgAHAAYABwAHAAcABgAGAAYABwAIAAgABgAEAAIAAQAAAP////8AAAEAAAAAAP///v/8//v/+f/4//f/9//4//r/+//9////AQABAAAA//////7////+//7///8AAAMABgAIAAkACAAFAAEA/v/9//7/AQAEAAYABwAIAAgACAAHAAYABgAHAAcABgAGAAcABwAHAAgACAAJAAgABgAGAAYABwAIAAgABwAEAAEA//8AAAQABwAIAAgABgACAAAA/////wAAAAAAAP/////+////AAAAAP//AAD//////v//////AAAAAP////8AAAEAAQAAAP///////wAA//8AAAAA/////wAAAgAFAAgACQAIAAcABgAFAAYACAAJAAgABwAFAAUABwAIAAgABwAFAAIAAAAAAAMABwAIAAgABgADAAEAAAD///7//P/7//r/+//9////AAABAAAA////////AAABAAEAAAD/////AAABAAMABQAHAAgABwAHAAYABQAFAAcACgAMAAwADAAKAAcABgAFAAYABgAHAAcABgAGAAUABgAHAAYABwAIAAkACwANAA8ADwAPAA4ADQALAAkABwAHAAYABgAHAAcACAAHAAcABgAGAAcABwAIAAcABwAIAAcABwAIAAcACAAIAAcACAAHAAYABgAHAAYABgAHAAgABwAHAAgABwAIAAcABQADAAEA///+//////8BAAIABAAGAAcACAAHAAcABgAFAAYABwAIAAgABwAGAAYABgAHAAgABwAHAAYABgAHAAcABgAFAAUABQAGAAgACAAHAAUAAwABAAAAAAAAAAAA//8=\" type=\"audio/x-wav\" />\n",
              "                    Your browser does not support the audio element.\n",
              "                </audio>\n",
              "              "
            ]
          },
          "metadata": {}
        },
        {
          "output_type": "stream",
          "name": "stdout",
          "text": [
            "Playing audio file: female_segment_81.wav\n"
          ]
        },
        {
          "output_type": "display_data",
          "data": {
            "text/plain": [
              "<IPython.lib.display.Audio object>"
            ],
            "text/html": [
              "\n",
              "                <audio  controls=\"controls\" >\n",
              "                    <source src=\"data:audio/x-wav;base64,UklGRiQEAABXQVZFZm10IBAAAAABAAEAIlYAAESsAAACABAAZGF0YQAEAAAJAAcABgAHAAkACwALAAcAAwABAAMABgAJAAkACAAJAAsADQAPABAADwAQAA8ADwAPAA0ADAANAAwADQAMAAwADwARABIAEgAQAA0ADQAOAA8ADwANAAkABgAEAAQABAAFAAMAAAD9//z//P/9//7/AAAAAAEAAQAAAAAAAQADAAYACQAKAAkACAAGAAUABgAHAAgACAAIAAcABwAIAAsADwATABUAEwAQAA0ADQARABQAFwAVABEADQANAA0ADgAPAA4AEAARABEAEQAQAA4ADQANAA4ADgAOAAwACwAMAAwACgAHAAQAAwAFAAgACgAKAAcABQAGAAcABwAHAAQAAwAEAAUABAACAP////8BAAQABgAHAAcABgAGAAgACQALAAsACwAKAAkACAAJAAwADwARABIAEQARABAAEQARABAAEAAPAA0ACwAJAAYAAgD+//z//P/+/wEABQAGAAcABgAGAAUABAADAAEA///+//////8AAAAAAAD//wAAAQABAP///v/+//7///8AAAEAAgABAAAAAAABAAIAAQABAAAA/////wEABAAIAAoACAAFAAIAAgAGAAwADwANAAgAAwABAAIAAwADAAMABAAGAAYABQAFAAYACAAMAA8ADwANAAoACQAKAAwADgAPAA4ADgANAAsABwAEAAMABQAIAAwADgAMAAgABQAEAAIAAQABAAMABgAJAAsACgAIAAgACQALAAwACwAJAAYABQAFAAQABgAIAAoADQAOAA0ADQAOAA8ADgANAAwADAANAA4ADAAJAAgACAAKAAwADQAMAAoACgAMAA0ACwAIAAYABAADAAQABAADAAEA/v/8//r/+//9////AAD+//z/+v/6//z/AAAEAAgACQAJAAoACgAJAAcABgAFAAYACAAKAAkABwAGAAcACQAKAAcABAABAP//AQAEAAYABwAHAAYABgAFAAUABgAHAAkACwALAAsACgAJAAkACAAHAAcABgAGAAcACQAKAAkACAAHAAYABwAHAAYAAwD///z//v8BAAYACQAKAAkACwAOABEAEQANAAkABwAGAAYABwAFAAMAAgAEAAUABgAFAAUABgAIAAsADAAMAAwACwAKAAoACwAMAA0ADQALAAoACQAJAAoACwANAA4ADwAOAA4ADAAKAAgACAAHAAYABgAHAAYABwAHAAgABwAHAAYABgAHAAcACAAHAAgACQALAA0ADgAOAAwACgAIAAcABgAEAAQAAwAEAAUABgAHAAcABwAGAAUABAAEAAUABgAHAAgACQAKAAsADQAOAA0ADAALAAoACwAMAA4ADwAOAAsACAAFAAQABQAGAAYABQAHAAoADgAPAA0A\" type=\"audio/x-wav\" />\n",
              "                    Your browser does not support the audio element.\n",
              "                </audio>\n",
              "              "
            ]
          },
          "metadata": {}
        },
        {
          "output_type": "stream",
          "name": "stdout",
          "text": [
            "Playing audio file: female_segment_126.wav\n"
          ]
        },
        {
          "output_type": "display_data",
          "data": {
            "text/plain": [
              "<IPython.lib.display.Audio object>"
            ],
            "text/html": [
              "\n",
              "                <audio  controls=\"controls\" >\n",
              "                    <source src=\"data:audio/x-wav;base64,UklGRiQEAABXQVZFZm10IBAAAAABAAEAIlYAAESsAAACABAAZGF0YQAEAAD/////AgAGAAgACAAFAAMAAAD///7//v////7//f/9//7/AAABAP///f/6//n/+v/9/wEAAQD///3//P/+/wEABAAGAAgACgAOABEAFAATABIAEAAOAA0ADgAMAAkACAAHAAgACQAJAAkACAAHAAcABwAHAAcABQADAAAA/v///wAAAAAAAP////8AAAMABgAGAAQAAQD///////8AAAEAAQACAAIAAAD8//n/9//3//j/+f/4//j/+v/9/wAAAQAAAP///////wAAAQABAAIAAwAGAAcABwAGAAMAAAD///7//v///wAAAQABAAEAAAD//wAAAgAFAAcABwAEAAAA///+//7////+////AAAAAP3/+v/3//b/9//5//v//v8BAAIAAgABAP////8BAAUACAAJAAgABwAIAAgACQAIAAcABwAHAAgACwAOABAAEAAPAAwACgAHAAcABwAIAAgACQAIAAcABwAGAAYABgAIAAsADgAPAA8ADgAMAAwADQAPABAADwAOAAwACQAHAAYABQAGAAcABwAHAAUAAgD/////AAD////////+//////8AAAAA/////////v///////v/+//7/AQAFAAgACAAJAAgABwAGAAYABQAGAAcABwAHAAcABQABAP///v8AAAMABgAIAAkABwAGAAcACQALAA4ADwAPAA8ADQAKAAcABgAGAAcACAAIAAYAAwAAAP////8AAAAAAAD/////AAABAAEAAAD+//r/+P/3//f/9v/1//b/+P/8////AQAAAP////8AAP///v///wEABAAHAAgABQABAP7///8BAAIAAgAAAP7///8BAAQABgAHAAcABwAHAAgABwAGAAYABQAGAAYABQAFAAQAAgAAAP/////+///////+///////+///////+///////+//7//v8AAAMABgAHAAYABQAFAAUABgAHAAcABgAFAAcACgANAA8AEAAPAA4ADwAPAA4ADQANAA4ADwAPAA8ADQAMAA4AEAARABAADgAMAAkACAAIAAcABgAHAAcACAAHAAYABQACAAAA///+////AAD//wAA//////7//v/9//3//v///wEAAgABAAAAAAAAAAEAAgACAAEAAAAAAAAAAQACAAEAAgABAAAAAAAAAAEABAAHAAkACAAGAAMAAgACAAMABQAHAAgACAAEAAEA/////wIABgAIAAgABAABAP//AAADAAYACAAHAAYABgAHAAYAAwAAAP7//v///wAAAQAAAP///v///wAAAAD///3//f///wAAAAD///7///8BAAQABwAIAAcABgAHAAYABgAHAAcACAALAA4ADwAOAA0ADQAOABAA\" type=\"audio/x-wav\" />\n",
              "                    Your browser does not support the audio element.\n",
              "                </audio>\n",
              "              "
            ]
          },
          "metadata": {}
        },
        {
          "output_type": "stream",
          "name": "stdout",
          "text": [
            "Playing audio file: female_segment_127.wav\n"
          ]
        },
        {
          "output_type": "display_data",
          "data": {
            "text/plain": [
              "<IPython.lib.display.Audio object>"
            ],
            "text/html": [
              "\n",
              "                <audio  controls=\"controls\" >\n",
              "                    <source src=\"data:audio/x-wav;base64,UklGRiQEAABXQVZFZm10IBAAAAABAAEAIlYAAESsAAACABAAZGF0YQAEAAARAA8ACwAIAAYABgAGAAcABgAHAAcABgAFAAMAAAD///7//v////7//v8AAAEAAAD///3//v8CAAUABwAHAAYAAwACAAIAAQD///7//v///wAAAAAAAP///v//////AAD/////AQAFAAgACAAFAAIAAAAAAAQABwAIAAgABwAFAAUABwAHAAcABgAHAAgACgAKAAcAAwAAAAEABAAHAAgACAAGAAQABQAGAAgABwAEAAIAAAAAAAEAAQABAAAA////////AAAAAAEAAgABAP///v/9/wAABAAHAAgABwAFAAYACgANAA4ADgANAA0ADQAOAA0ADQAMAAwADQAPABAADgAKAAYABQAGAAcABgAHAAYABgAHAAgABwAHAAYABgAHAAcABgAHAAcABwAGAAMA///8//3//v///wAA////////AAABAAEAAAD///////8AAAAA/v/7//j/9v/4//v//v8AAAAA//8AAAIABAAGAAcABwAHAAgACAAJAAgABwAFAAYABwAHAAcABAACAAAA//8AAAAA///+//////8AAAEA///+/wAAAwAHAAoACgAIAAUAAgAAAAAAAQABAAAA///+////AAAAAAAA/////wAAAAABAAIAAAD///////8AAAAA/v/9//3//v8AAAMABQAGAAYABwAIAAcABgAFAAQABQAHAAcABQABAP7//v8AAAUACAAJAAgABQAEAAUABgAIAAkACAAIAAcABQACAP//+//4//j/+f/6//n/+P/4//n/+f/4//f/9v/1//j//P/+/////f/6//j/+v/8//7//v///wAAAwAGAAcABwAGAAUABgAHAAcACAAHAAcABgAGAAcABwAGAAUABQAFAAYABwAHAAgABwAGAAYABQAGAAcACQAIAAcABwAGAAcACAAIAAkACAAHAAcACAAHAAcABgAHAAkACQAJAAgABwAFAAYACAAIAAcABgAGAAcACQAMAA0ACgAHAAUABQAFAAYABwAGAAUABQAEAAEA/v/8//7/AwAHAAgACAAHAAUABQAGAAcABgAGAAYABwAKAA0ADwAPAA4ACwAIAAUABQAGAAgACQAJAAcAAwAAAP///////wAAAAD///////8AAAAAAAD///////8AAAAA///9//r/9//3//n//P/+///////+//z//P/9//7//v/9//7//v/9//3//v///wEABAAGAAgABwAIAAcABgAEAAEA///+////AAAAAP7//P/8//3/AQAFAAgACQAIAAYABgAHAAgACAAHAAMAAAAAAAIABQAHAAgABwAGAAcABwAIAAcABAAAAP7//////wAA///8//j/9//4//v//f///wAA\" type=\"audio/x-wav\" />\n",
              "                    Your browser does not support the audio element.\n",
              "                </audio>\n",
              "              "
            ]
          },
          "metadata": {}
        },
        {
          "output_type": "stream",
          "name": "stdout",
          "text": [
            "Playing audio file: female_segment_128.wav\n"
          ]
        },
        {
          "output_type": "display_data",
          "data": {
            "text/plain": [
              "<IPython.lib.display.Audio object>"
            ],
            "text/html": [
              "\n",
              "                <audio  controls=\"controls\" >\n",
              "                    <source src=\"data:audio/x-wav;base64,UklGRiQEAABXQVZFZm10IBAAAAABAAEAIlYAAESsAAACABAAZGF0YQAEAAAAAP///v///wAAAwAFAAcABwAGAAUABQAGAAcABwAHAAcACAAIAAcABgAGAAYABwAGAAUABQAEAAUABwAKAAsACQAFAAIAAAD+////AAAAAAAA/////wAAAAABAAAA/////wAA/////wAAAAD/////AAD////////+////AAACAAQABgAHAAYABQAEAAQABQAGAAYABwAHAAgACAAIAAcABQAFAAYABwAHAAYABwAIAAgACAAHAAQAAAD9//7///8AAP///v/+////AQAEAAcACAAHAAcABgAFAAYABgAHAAcABgAGAAcABgAGAAYABwAIAAgABgAEAAEA//8BAAQABwAIAAYAAwADAAUABwAIAAkACAAGAAYABQAGAAUABQAGAAgACQAJAAYAAQD9//z//f///wIABAAGAAcACAAHAAMAAAD+//7//v//////AAAAAAEAAQAAAP7//P/9////AwAGAAcABQACAP7//v8AAAQABgAHAAcABgAHAAgACQAIAAUAAQD///////8AAP///f/8//3//v/+/wAAAQAAAAAAAQAAAP///////wAAAAD///7///8AAAIABAAEAAIA///9//z//P/9//////8AAP//AAABAAMABgAIAAcABAABAP7//P/9//7/AAABAAIAAgABAAAA/v/+////AQACAAEAAAABAAIABQAHAAcABgAFAAQABQAHAAcABgAFAAQABgAKAA0ADgANAA0ADQAOAA8ADwANAAsACQAJAAgABwAIAAcACAAJAAkACAAJAAgACAAHAAYABgAHAAgACgAKAAoACAAGAAYABQAGAAYABgAHAAgACAAHAAYABQAFAAYACAAIAAUAAgD///7///8BAAMABQAGAAgABwAEAAEA/f/7//z//v/+//7/////////AQACAAEAAQAAAP7//f/+////AAAAAP///v/+////AAAAAAAA//8AAAIAAQD///3//P/8////AgACAP///P/6//r/+f/5//n/9//2//j/+////wIAAQD///7//v///wIAAgAAAP7//f///wIABQAFAAQABAAFAAgACgAIAAQAAgACAAUABwAIAAYAAwAAAP////8AAP///v///wEABAAHAAkACAAIAAcABwAGAAQAAQAAAAAAAAABAAEAAAAAAP//AAD//wAA//8AAAAA///+////AAABAAEAAAD//wEABAAIAAsACwAKAAYABAAFAAYACAAJAAkACQAIAAcABwAHAAYABQAFAAYACAALAA0ADwAQABAADwAOAA0ADAAKAAcABQAFAAYABwAHAAgACAAGAAQAAgAAAAAAAQACAAIAAQD9//r/+f/7//7/AAABAAAA\" type=\"audio/x-wav\" />\n",
              "                    Your browser does not support the audio element.\n",
              "                </audio>\n",
              "              "
            ]
          },
          "metadata": {}
        },
        {
          "output_type": "stream",
          "name": "stdout",
          "text": [
            "Playing audio file: female_segment_373.wav\n"
          ]
        },
        {
          "output_type": "display_data",
          "data": {
            "text/plain": [
              "<IPython.lib.display.Audio object>"
            ],
            "text/html": [
              "\n",
              "                <audio  controls=\"controls\" >\n",
              "                    <source src=\"data:audio/x-wav;base64,UklGRiQEAABXQVZFZm10IBAAAAABAAEAIlYAAESsAAACABAAZGF0YQAEAABT9Hv0wfQ09cn1cPYb98f3fvhI+Sn6HPsg/DL9Sv5g/2sAaAFaAk0DRwREBTMGCgfNB5MIaQlIChkLxwtdDPoMuw2aDnIPGRB+EKsQthCxEKgQpBCsEL4QxRCrEGoQFBDFD38PKw+oDvINKA10DPELkgs0C8EKOgqrCR4JlggRCJAHGAenBjIGsAUjBZQEDASQAxkDnQIWAo0BCwGaADgA3f9//xb/pP4y/sr9df0z/ff8vPx8/Db88vu5+437avtJ+yX7A/vu+uv68vrx+t36wPqx+sT68voj+0L7Uvtr+6H77/s5/Gn8gfyW/L388vwg/TT9NP0x/Tv9Tv1Z/Un9If3w/MX8ovx8/EL89Puf+1X7Hfvr+qv6U/rr+Yb5MPni+Iz4Iviq9zn34vam9nP2NPbe9X31JPXj9Lj0kfRi9Cv0/vPq8/fzGfRA9GT0h/S19Pr0WfXK9UT2v/Y+98T3YPgZ+e351frH+738uv3D/tv//gAkAkcDYwR4BYgGjgeKCHoJXwo8CxYM/QwBDh8POBATEYURlRGDEZgR8BFlEqgShxIQEoIRHBHsEMwQhxAAEEUPew7CDR0NgAzZCycLcgrFCSAJfgjdB0IHsgYrBpwF/ARRBLADMgPaApMCRQLiAXIBBwGsAGEAIwDs/7n/hP9I/wn/zv6d/nH+Pv79/bj9f/1e/Uv9Nv0U/ev8y/y6/Kj8g/xI/Av84vvP+8H7pft3+0H7Evvo+rv6ifpb+kD6P/pK+kr6NfoT+vL54fng+eD51/nE+a35n/mf+af5rPml+ZT5g/l7+YH5jPmR+Yr5e/ls+WL5WPlA+RL52fik+Hv4WPgm+Nz3gfcp9+L2pPZc9gD2nPVH9RX1APXz9Nn0q/R19Ev0P/RS9IH0wvQP9Wb1yfU69rr2Sffn95T4VPkn+g/7DPwd/TX+Sf9TAF4BfAK1A/QEGgYUB/IH1gjUCd4K0wuiDFoNEw7PDnEP4g8wEIUQ+RBrEZwRbRECEagQjBCPEGoQ7w83D4gOFA7ODXsN8Aw0DHkL6gqLCjUKvgkaCWQIxwdXBwMHpwYsBpoFEAWiBE0E+QOSAxgDlwIdAqwBQwHfAIMALADT/3L/C/+s/l3+G/7X/Yr9Of3z/L78kvxe/Bf8v/tp+yT79frV+rj6lPpp+j36Fvr1+dr5xfmz+af5ovmm+a35sPmq+Z/5mPmj+b/54/kC+hf6Jfo1+kn6XPpn+mb6Yvpm+nL6ffqC+oD6efpz+mn6V/o8+hz6/PnT+Zb5Q/nk+Ib4M/jm95f3RPfy9qX2Vfb69ZX1OvX79Nr0u/R/9Bz0qfNL8xnzFPMo80jzcfOl8+DzHvRi9Lf0L/XQ9ZD2Xvcs+PX4\" type=\"audio/x-wav\" />\n",
              "                    Your browser does not support the audio element.\n",
              "                </audio>\n",
              "              "
            ]
          },
          "metadata": {}
        },
        {
          "output_type": "stream",
          "name": "stdout",
          "text": [
            "Playing audio file: female_segment_374.wav\n"
          ]
        },
        {
          "output_type": "display_data",
          "data": {
            "text/plain": [
              "<IPython.lib.display.Audio object>"
            ],
            "text/html": [
              "\n",
              "                <audio  controls=\"controls\" >\n",
              "                    <source src=\"data:audio/x-wav;base64,UklGRiQEAABXQVZFZm10IBAAAAABAAEAIlYAAESsAAACABAAZGF0YQAEAAC6+X76Sfsk/Br9Kv5F/1kAXQFaAmMDgASkBbkGqgd4CDkJAwreCsMLoAxkDQgOjw79DlcPqA/+D2IQzBAYER4R0RBWEPMP1Q/qD+0PmQ/kDgYORg3EDGkMCAyNCwELeAr1CWgJxggWCHIH6AZzBgIGhwUGBYYEDQSdAzEDxAJZAu4BfwEMAZoAMADT/4H/NP/k/o/+N/7k/Zr9V/0Z/dr8lfxH/Pj7r/tz+0T7Gvvs+rP6dPo5+gv67fnW+br5lPlq+Uj5Nvk1+Tz5Pfk6+Tn5RPlX+Wj5bPlp+W35gPmj+cb52fnZ+dP51fnk+fn5A/r4+d/5xvm3+a/5n/l7+UD5/vjM+LL4qPiO+Eb4zPc998H2a/Yt9uH1bvXi9GT0EvTl87XzZfP98p3yaPJg8mrybPJi8l/ye/LA8iTzm/Ma9J30I/Wu9UH24vaV9134N/kh+hj7Hvww/Uv+bP+RALkB4QIDBBcFGAYJB/UH7AjxCfIK0wuIDCUN1A2uDpgPUhCsELUQtxDxEF8RuBG5EWQRABHUEOEQ4BCEEMIP1w4RDpINOA3MDC0MaQunCgkKkAknCbAIIAh7B9AGLwaaBQwFhgQGBIsDDgONAgwCmAE7AfUAtQBsABcAvP9j/w3/tP5X/vj9nf0//dv8cfwL/Lj7e/tB+/f6mfo1+uP5rPmC+VP5FvnX+Kr4mfic+KP4oPiQ+Hz4cPh4+Jr40/gR+UH5Xflv+Yz5w/kJ+kn6e/qm+tz6IPtb+3X7bPtb+177cft3+1P7B/uz+nD6P/oE+q35PfnN+Gb4+Pdr97n2+fVS9dn0ffQa9JPz5/Iu8oTx+fCP8EPwHfAk8E/wd/B08D3wAPAD8HXwP/Ea8sfyPPOp80X0HPUQ9vf2wveK+G75d/qW+7P8w/3N/uD/CAE/AncDogS3BbcGqgedCJgJnAqfC5wMjw10DkYP/A+OEP0QVxGtEQYSWxKdEroSrRJ5EikSyhFpERARwhB5ECYQsw8XD1wOlQ3XDCoMhwvhCjAKegnJCCUIjAfzBlAGpwUBBWsE5gNrA/ECdAL2AX0BBwGRABoAp/88/93+hf4s/tD9cv0V/b78cfwv/Pj7x/uT+1P7CPu8+nr6R/of+vP5vvmC+Un5IPkJ+f748/jh+Mr4t/iv+Lj4zvjp+AD5EPka+ST5M/lJ+WX5f/mT+Z35o/mp+bP5wPnH+cH5qvmG+Vv5MfkJ+eP4wPie+HH4K/jE90X3xfZZ9gX2uvVh9e30afTt84nzPvP+8rjyYfL88ZDxKPHN8IbwV/BE8FDwgvDf8Fvx2vFC8ovyxPIV85vzWfQ09Qv2zvaF90b4Jvko+kH7YfyB/Z/+vv/fAAMCKgNWBIcF\" type=\"audio/x-wav\" />\n",
              "                    Your browser does not support the audio element.\n",
              "                </audio>\n",
              "              "
            ]
          },
          "metadata": {}
        },
        {
          "output_type": "stream",
          "name": "stdout",
          "text": [
            "Playing audio file: female_segment_375.wav\n"
          ]
        },
        {
          "output_type": "display_data",
          "data": {
            "text/plain": [
              "<IPython.lib.display.Audio object>"
            ],
            "text/html": [
              "\n",
              "                <audio  controls=\"controls\" >\n",
              "                    <source src=\"data:audio/x-wav;base64,UklGRiQEAABXQVZFZm10IBAAAAABAAEAIlYAAESsAAACABAAZGF0YQAEAAC5BuUH/wgBCu4K1QvKDNcN9g4LEPcQoREHEj4SahKvEhYTjBPuEyUUMhQnFA4U3hN8E+ESJBJzEfkQtBB3EAcQRw9DDioNLAxfC7gKIAp+CckICAhIB5MG6wVIBaEE9QNIA6ICBgJwAdsAQwCr/xv/lv4b/qX9MP3B/Fr8Avy0+2r7GvvA+l76/fmo+WP5MPkI+eH4tviM+G34XfhX+FH4R/g/+EL4UPhg+GT4XPhX+Gb4jPi6+N347/gC+Sv5cPm++fj5D/oL+gj6GfpB+m76iPqI+nP6V/o++iT6AvrT+Z35Zvkv+ez4jvgQ+H/37/Zz9gr2pPUt9Z70/fNd88nyPfKs8QrxWfCu7ybv1+657rbusO6c7onukO7B7hnvj+8c8MvwpvGp8r/z0PTT9dX26PcT+VD6lfve/C/+iP/hADICfQPIBBYGXQeSCLUJ1goIDEwNhw6ND0kQyRA7EcwRiRJZEwwUeBSVFH0UVxRBFEEUThRWFEgUERSmEwkTUxKoEScR0RCKECsQmA/YDgQONg1+DNwLRAuoCv0JQwmHCNcHQAfHBl0G7wVzBewEZQTmA3AD+wKGAhICpgFEAekAjQArAMT/Yf8I/7f+aP4S/rT9Uv34/Kf8WfwI/LP7YPsS+8n6ffoo+s35efk8+Rr5C/n9+OP4ufiK+GT4T/hN+Fj4aPh4+Ij4nfi3+M/42fjR+MH4ufjG+OT4BPkT+RH5DPkR+Rv5HvkR+f348fjv+Ob4vvht+Ab4pfdb9x732fZ89gr2lPUn9cH0XvT384jzE/OW8hjypvFS8SnxKfE/8VTxVvFH8TXxOvFr8dDxYfIL87fzXfT89Jz1SvYM9+L3yfi++cH62PsD/Tn+bv+XALsB6wIyBIEFuAbHB78I0wkmC6EMAQ4LD8IPYxAtESUSFBO/ExkUThSOFN8UJhVEFT0VLxUvFTQVHBXOFEgUoBPsEjoSkhH2EF8Qwg8ODzgOSg1cDIoL4QpVCssJLAl6CMUHJwenBjIGsQUaBXgE3wNdA+kCbgLhAUsBuwA8AM3/aP8J/7D+Xv4L/q79Rv3b/Hb8HPzK+377NPvw+rL6d/o7+vr5tfl4+Uz5Mfkd+Qf56vjM+Lv4vPjI+NT42Pja+Or4FPlU+Zj50fn5+RH6H/op+jf6T/p1+qT6yfrW+sf6qPqL+nz6c/pa+iL6zvl1+TH5A/nS+IP4DPiF9xL3vvZy9g32h/X49IP0IfSo8/byH/Jp8RfxJfFK8Tfx1vBX8AjwD/Bb8L/wGvFo8cDxMvLA8mnzLvQN9QP2B/cQ+Bz5L/pL+3f8uP0O/3MA2QEtA2QEhgWkBswHAAk4CmkLlgzDDesOABDtEK0RTRLlEoUT\" type=\"audio/x-wav\" />\n",
              "                    Your browser does not support the audio element.\n",
              "                </audio>\n",
              "              "
            ]
          },
          "metadata": {}
        },
        {
          "output_type": "stream",
          "name": "stdout",
          "text": [
            "Playing audio file: female_segment_376.wav\n"
          ]
        },
        {
          "output_type": "display_data",
          "data": {
            "text/plain": [
              "<IPython.lib.display.Audio object>"
            ],
            "text/html": [
              "\n",
              "                <audio  controls=\"controls\" >\n",
              "                    <source src=\"data:audio/x-wav;base64,UklGRiQEAABXQVZFZm10IBAAAAABAAEAIlYAAESsAAACABAAZGF0YQAEAAAfFI4UshSNFFAUNBRSFIwUmxRJFJwT1BI3EtwRohFIEaYQww/IDt8NFg1iDLEL/gpTCrwJOAm7CDcIqQceB6UGPwbiBXoF/ARvBOoDgQM4AwQDzwKMAj0C7AGhAVoBEwHFAHYALQDu/7P/bv8T/6T+Lf6//WT9Gv3Y/JL8O/zR+1z75/p9+iL61PmN+U75Hfn9+Ov41viz+IL4T/gv+Cz4Qfhf+H34mvi6+N/4BPkf+S75Nfk++VL5dfml+dT59PkA+v35+vkI+iX6P/o8+hf63fmk+W75MPnf+IP4L/jx97n3Zffo9lr24vWS9VP1+vR49Ovzg/NS8z/zIvPp8qzykPKi8tDy/vIj80vzi/Pu83T0GfXX9af2e/dK+B75DPok+1/8of3T/vP/EwFFAoYDyAQCBjUHaAiZCbYKswucDIwNlQ6xD70QlREwEqESAhNbE5gTnxNzEz0TMhNlE6wTtxNVE54S4RFfERgR0RBXEKkP8w5ZDtANMw12DLYLHQuvCkQKsQn6CE8I2AeTB1EH6wZjBtoFbQUXBcEEXATvA4cDLgPfAo4COQLiAYMBGAGhAC4Az/+F/zr/2P5c/t39cf0a/cX8XPzd+1378PqY+kX66PmJ+Tz5Dvn3+OX4x/iZ+GT4MfgJ+PL38/cP+Dz4aviM+KX4vvjk+Bf5T/mH+cD5APpI+pP60vr9+hf7LPtE+1z7Z/tX+y77+/rP+qr6ffo1+s/5X/n9+LH4Zfj892z3xPYh9pL1FfWf9Cj0sPM087DyJPKl8U/xL/Ey8TTxI/EY8TvxofE48tnycfMM9MP0m/V79kf3//fC+Lb54fop/Gz9mf7A//cARQKbA94E/AX6Bu4H7wgFCi0LWAx5DYQOag8cEJYQ6xA1EY4R9xFUEoMSfhJeEkwSWxJ6EnYSJBKGEckQKBC9D3MPEw99Dr0NAg1wDAIMkgv9CkMKhgnwCIoIQAj2B5sHNwfbBpIGWgYmBusFqAVkBSUF6wSzBHYENQTzA7cDgANIAwUDsAJKAtwBcQENAa4ASwDc/1//2/5Z/t/9a/35/IH8BvyP+yT7xPpp+gz6rPlR+QX5yPiY+Gv4PPgR+Pb39vcP+Dj4YviD+Jz4tPjS+Pv4Lflo+ar57vku+mL6ifqs+tX6Bfsu+z37K/sD+9j6tvqX+mr6JPrJ+WX5BPmp+Ef40vdC95/29/VZ9cz0VPTp83rz+/Jk8r7xHvGh8F3wS/BP8EvwN/As8FDwvPBo8THy9vKq81v0HPX09dv2yPe6+L353voe/G79vf4EAEkBnAL/A18FnwauB5UIegmFCsULHg1aDlMPDRCyEGwROBLoElATbRNyE5YT5hM0FEIU+BN7EwYT\" type=\"audio/x-wav\" />\n",
              "                    Your browser does not support the audio element.\n",
              "                </audio>\n",
              "              "
            ]
          },
          "metadata": {}
        },
        {
          "output_type": "stream",
          "name": "stdout",
          "text": [
            "Playing audio file: female_segment_377.wav\n"
          ]
        },
        {
          "output_type": "display_data",
          "data": {
            "text/plain": [
              "<IPython.lib.display.Audio object>"
            ],
            "text/html": [
              "\n",
              "                <audio  controls=\"controls\" >\n",
              "                    <source src=\"data:audio/x-wav;base64,UklGRiQEAABXQVZFZm10IBAAAAABAAEAIlYAAESsAAACABAAZGF0YQAEAAC9EpISWxL4EWwRyhAlEH0Pyg4MDk4NnQwCDHYL6QpUCrcJHQmTCBkIrAdKB/MGqQZoBiMGzwVrBQYFrgRjBBsEywNzAx4D1QKTAksC9AGPASsB0AB7ACEAtf84/7r+SP7i/Xz9BP12/N37TPvQ+mv6Dvq0+WH5HPnm+Ln4iPhR+CH4B/gF+BD4G/gh+Cf4N/hX+IT4ufj0+DH5a/md+c35//k9+ob6zfoC+x77J/sn+yX7HvsO+/D6xPqM+kf6+Pmk+VL5Avmu+ET4uPcO9132vPU79db0dvQG9IPz9/Jz8gDyl/Ev8cvwevBG8C3wJvA18HDw9vDF8bjymfNI9Nv0gPVZ9mX3hfib+an6vvvk/Bz+Xv+nAPQBPANvBIYFiQaQB6gIyAnWCsILlQxlDUMOJA/0D6QQOBG3ER4SYBJ2Em4SYxJoEnQSZxIoErYRNhHSEJkQcxAyELEP9w4tDn4N9wyHDBQMkwsRC5kKJwqsCSAJkggeCM8HmAdmBysH6gaqBmwGJwbYBYkFQwUKBc4EgQQjBMQDdwM8AwQDvgJjAgACogFKAfEAiQARAJD/E/+c/iH+m/0M/YX8F/zF+3j7F/ua+hf6rflp+Tj5+fig+D74+Pfm9/33HPgl+BT4/Pfy9wL4JfhP+Hb4mfi2+ND46PgB+SD5TPmG+cT59vkR+hT6C/oC+gT6Bvr3+cn5hfk++Qn54fit+E/4yPc19772cPY29un1dPXn9GT0//Ow82XzFfPI8o7yZ/JL8jnyPfJh8qby+/JL85bz8fNy9B715/W19n/3UPg5+T76Vvts/Hf9gP6b/9EAFgJQA28EfQWSBrgH4gj1Ce4K5Av0DBMOFA/JDzQQiRAAEaMRShLJEhkTTRNwE3ATOxPkEp0SiRKSEnUSCBJfEb4QURD+D4QPvA7FDeoMWQwADKALBws4CmQJuQg+CNkHaQfkBlwG6QWQBT0F3ARpBPoDpANnAyoD0wJkAvkBqQFyATgB5QB/ABwAxv9y/w3/mP4l/sf9ef0g/az8Kvy4+2b7J/ve+nv6D/q0+XX5Q/kJ+cD4dvhD+Cv4JPgf+BT4CfgL+CL4T/iM+M74Cvk5+V/5jPnP+Sv6kPrm+h77P/td+4r7xvsA/CP8J/wS/Pf74/vR+7X7gPsw+8z6X/rt+Xf5APmP+Cn4x/dX98b2E/ZV9av0I/S080nz0fJN8s3xYPER8ejw6vAZ8Wzx1PE88p7yA/N78xP0zPSc9Xb2Vvc9+DL5PPpc+5D81f0l/3cAwQH8AiwEXAWUBskH5AjUCakKjQudDM0N5w6zDyYQbhDAECkRiBGwEZsRchFjEXERehFPEecQZBDyD6kPeA8+D+AOWw6+DSQN\" type=\"audio/x-wav\" />\n",
              "                    Your browser does not support the audio element.\n",
              "                </audio>\n",
              "              "
            ]
          },
          "metadata": {}
        },
        {
          "output_type": "stream",
          "name": "stdout",
          "text": [
            "Playing audio file: female_segment_378.wav\n"
          ]
        },
        {
          "output_type": "display_data",
          "data": {
            "text/plain": [
              "<IPython.lib.display.Audio object>"
            ],
            "text/html": [
              "\n",
              "                <audio  controls=\"controls\" >\n",
              "                    <source src=\"data:audio/x-wav;base64,UklGRiQEAABXQVZFZm10IBAAAAABAAEAIlYAAESsAAACABAAZGF0YQAEAACfDDQM3wuWC0gL6Qp2CvMJcAn/CKgIZQgoCOkHqgd6B10HTwc8BxIHzQZ7Bi0G7AW1BYEFTAUQBccEbgQDBIwDEwOYAhgCjAH0AFcAv/8r/5T+8v1K/aT8Cfx5++n6VPq9+TD5uPhU+Pf3lfco9732ZfYp9gH23vW79aP1rPXh9Tr2n/b89k73o/cE+HH43/hH+av5Efp5+t36OPuK+9f7Ivxj/I/8ovyj/Jv8jvx1/EL87Pt5+//6jvon+rz5PPmj+P/3XvfE9iL2bfWu9P/zbfPv8mzy3vFh8R3xGPEr8SbxAfHm8BXxn/FY8gLzgvP084r0WvVQ9kr3OPgn+Sr6Rftu/Jv9y/4FAE0BnQLwA0IFiwa/B88IwAmnCqMLvAzfDeEOpw86EMAQXBETEsMSPRNsE2ITSRNIE2ATcxNcExITrhJQEgMStBFDEZ4Q0g//DkQOqA0nDbMMQQzJC0sLyApDCr8JQAnDCEYIywdWB+oGhAYeBroFXwUVBdcElwRABNADVgPlAoMCKgLKAV8B7gB9AAoAkv8V/5r+KP65/UL9vfw1/Lv7WPsB+6D6Lvq3+VX5Ffn1+OT40vi4+JT4Z/g2+BL4EPg6+ID4v/jf+OP46/gO+VP5pvn1+Tr6ffrA+vn6IvtA+2b7pvv5+0j8evyI/Hv8YvxE/B786/uq+2D7Dvuz+k/66vmF+Rz5ovgI+FD3iPbG9Rj1e/Td8y/zd/LQ8VLx/fC18Fzw7++U73bvne/q7zXwcvC98Dzx9fHL8p/zb/RV9WP2jve2+M756voq/Jf9E/97AMgBDgNmBNAFLgdnCHwJhwqlC9UM+Q3uDqwPShDuEKcRZBL6EkwTYBNYE1ATTRNFEzQTJRMfEw8TzRJDEooR3xBuECcQzw84D2sOoQ0NDa4MWAzmC1ULwwpICuAJcgntCFsI1QduBx4H0QZ0BgcGlQUtBdcEjwRJBPsDnwM3A8wCZQIEAqgBSwHnAHoABQCN/xr/q/43/rL9HP2C/Pj7iPsj+7P6Lvqc+RX5rfhk+Cj44veK9yn3yvZ/9lH2SPZj9pj22fYa91n3mffi9zr4n/gO+Yb5BfqH+gf7ffvj+zn8gvzE/AH9OP1n/Yb9j/1+/Vj9KP30/Lv8cvwN/Iz7/vpx+uv5Xvm4+PH3Ffc59mn1ovTY8wLzI/JI8Ybw8e+N71DvHe/Y7njuG+727TTu1O6q74DwOfHm8a3ypPO/9OP1/PYK+CH5Ufqk+x39tf5ZAPEBZgO5BAIGYQfeCGQK0wsXDTgORg9MED4RERLCElUTyBMTFDEUMRQxFEMUXRRgFDIU1hNsExATvBJZEtARIxFpELwPGw91DrkN6gwfDGwL2ApPCroJ\" type=\"audio/x-wav\" />\n",
              "                    Your browser does not support the audio element.\n",
              "                </audio>\n",
              "              "
            ]
          },
          "metadata": {}
        },
        {
          "output_type": "stream",
          "name": "stdout",
          "text": [
            "Playing audio file: female_segment_379.wav\n"
          ]
        },
        {
          "output_type": "display_data",
          "data": {
            "text/plain": [
              "<IPython.lib.display.Audio object>"
            ],
            "text/html": [
              "\n",
              "                <audio  controls=\"controls\" >\n",
              "                    <source src=\"data:audio/x-wav;base64,UklGRiIEAABXQVZFZm10IBAAAAABAAEAIlYAAESsAAACABAAZGF0Yf4DAAAVCXgI/QelB1gH9QZ1BvkFoQVxBUgFAAWUBCIEzwOcA2sDIQPBAmQCGwLbAYwBJgG9AGUAGwDF/1H/y/5T/vz9u/1u/QP9gvwI/KT7Tfvx+oH6BPqM+SP5yvh8+Dj4/vfP96X3efdK9yL3Efck91v3qPf19zb4avij+PH4Xfni+XP6//p6++D7NvyD/M/8HP1p/az92v3s/eb90f25/Z39dP0s/bz8KvyE+9f6KPpw+av44fcg92f2pPW69J7zZfJA8VXwtO9K7/nup+5L7ubtg+087THteO0J7sHude8U8LPwd/F18qnz9/RK9pf35fg7+qL7H/21/mIAEgKrAx0FagaqB/QIUAq0CwgNPQ5OD0QQJBHxEaYSPRO2ExAUSxRlFGIUURRIFEoUQhQFFHgTsRLvEXARNBEIEagQ+g8hD1AOng38DFEMngv6CnUKAwqJCf4IdwgRCM0HkAc+B9kGewY1Bv4FugVbBe4EjgRBBPgDmwMjA6QCNwLgAY0BJgGkABIAg//+/n7++P1k/cz8PPy3+zP7p/oX+pf5PPkF+dH4ffgH+I/3OfcN9/D2xfaK9lz2WvaB9rP21/b49jb3pfc1+MH4LvmC+dr5Tvra+mX72/s8/JH85vw7/YX9vP3j/QH+Gv4p/h/+9/23/XD9K/3i/H788vtG+4362fkq+XP4rPfg9hb2TPVz9H3zdfJ48aDw9e9s7/nuoe5r7lbuUu5M7kruZ+7A7mHvOPAm8RPy9vLW88P00vUP93r4A/qP+xD9jP4aAMQBdQMLBW4GrwfxCEgKowviDPoN/w4REDERNBLnEjwTXROKE+gTWhSiFJEUNRTJE4UTaBM5E8AS/REzEakQaxAvEJwPlw5kDWUMywtyCw4LcAqsCfYIcQgRCLYHSwfXBmgGBQaoBUsF7wShBGUEPAQfBAgE7QPHA4oDNgPXAnwCKwLdAYIBFgGcACAApP8l/53+Ef6J/Qr9jfwL/IL7/PqB+gz6kvkQ+ZX4Nvj999X3n/dO9+/2pfaI9pL2qva99sv26vYu95f3FPiL+O74QPmM+eL5TfrO+mH7+/uQ/BT9ef26/dr95/34/Rr+TP58/pD+df4q/sH9T/3e/Gz85vs6+2f6f/mc+Mv3BPcx9kT1QvQ/81Dyc/Gc8MrvCe9u7v/tqu1Y7QLtwOyw7OHsRe3I7WXuLe8z8Hjx4PJF9JH1yPYA+Fb52fqJ/Fb+KQDrAY4DFQWMBgEIdgnlCkgMlw3QDvEP8xDTEZESMRO0ExcUUBRgFFYUShRLFFYUUhQgFLYTIBN/Eu4ReBEREZ4QERBuD8IOIA6PDQ4NmAwnDLkLSwvdCnQKFwrKCYYJQgnzCJkIPgjrBw==\" type=\"audio/x-wav\" />\n",
              "                    Your browser does not support the audio element.\n",
              "                </audio>\n",
              "              "
            ]
          },
          "metadata": {}
        },
        {
          "output_type": "stream",
          "name": "stdout",
          "text": [
            "Playing audio file: female_segment_380.wav\n"
          ]
        },
        {
          "output_type": "display_data",
          "data": {
            "text/plain": [
              "<IPython.lib.display.Audio object>"
            ],
            "text/html": [
              "\n",
              "                <audio  controls=\"controls\" >\n",
              "                    <source src=\"data:audio/x-wav;base64,UklGRiYEAABXQVZFZm10IBAAAAABAAEAIlYAAESsAAACABAAZGF0YQIEAACfB00H6QZyBvMFegUPBacEMgSgA/cCQwKUAe0ARgCT/9X+Ff5b/ar8/vtP+6H6Avp0+fD4aPjZ91D32vZ99i324PWZ9Wn1V/Vc9Wf1cvWJ9b71EvZt9rn29/ZB97H3Sfjy+Jj5N/rZ+oT7K/y9/Dz9uP0//sz+Qv+N/63/t/+//8f/x/+2/5n/cP80/9H+Pf6E/cP8D/xo+7r69PkQ+R74MPdG9k/1N/QE89TxzPD770bvi+7F7RXtrOyT7J3smuyB7H7syOxi7Rjut+5D7/rvFvGV8jD0ofXX9v73S/nQ+nX8Fv6j/yYBrQI7BMgFSQe4CBEKUQt7DJUNqA6yD6sQiBFDEuMScRPnEzsUYBRhFFQUTRRPFEYUGRTDE1QT6xKcEmISIRK7ESMRZRCaD9cOJA57DdQMLwyaCxsLrwpDCsUJLgmSCAoIpgdcBxIHtQZFBtcFfAUuBdoEcgT5A4EDFwO3AlMC4gFqAfcAkgAyAMP/Ov+b/vb9Vf24/Bj8c/vR+kb63PmI+Tb52/h/+Dv4GfgG+OD3mPdH9xX3GPc190L3LfcQ9xz3Z/fX9z74hvi/+Ar5c/nu+WP6yvor+4v75/s1/Hf8ufwG/VT9jf2l/aX9pP2r/a79lv1S/e38ffwT/Kz7Ofur+gL6UPml+Ab4Zve29vP1J/Vf9KDz5PIf8k7xgPDH7yrvou4k7rLtWu0w7Tztce287RDud+4H79fv5/Ai8m/zvvQK9lr3r/gK+mv72/xp/hwA5QGcAx0FYQaKB8wITgoLDMwNSg9aEAQRexH4EZQSQRPUEysUQhQzFCYUMxRSFGgUURT6E2oTwBIYEn0R4RAtEFYPaA6ADbcMDQxzC9kKPAqjCRcJlQgaCKcHQgfuBqEGTgbwBZAFPQX/BNMErQSMBHEEXwRMBCUE4wONAzED2AJ+AhoCpgEmAZ8ADwBv/7z+/f1A/ZL89Ptg+836Ofqo+R75oPgt+Mv3f/dM9yj3AvfM9oP2O/YR9hf2SfaM9sz2CfdY98f3TPjR+ET5svk1+tT6e/sI/Gz8uvwV/Yr9CP5u/q3+1P75/iX/Sf9R/zL/+P62/nP+J/7D/T79nvzu+zn7gfq/+fD4F/g791/2gvWh9L/z5PIb8l3xovDl7y/vle4e7sLtdu0/7TrtgO0L7rHuTO/c74nwgfHI8jT0k/XR9gn4Y/nt+pT8O/7R/2IBAAOsBE4GyQcZCVkKsAsrDa0OABABEbkRVRL4Ep4TIhRgFFoUNRQUFAAU4hOkE0YT4hKTElES9xFXEVoQHA/cDdoMNgzaC4kLCgtKCmQJjgj1B50HaAcwB+IGhQYxBvIFwgWPBUsF+QSpBGwERAQoBAkE4QOxA4ADUQM=\" type=\"audio/x-wav\" />\n",
              "                    Your browser does not support the audio element.\n",
              "                </audio>\n",
              "              "
            ]
          },
          "metadata": {}
        },
        {
          "output_type": "stream",
          "name": "stdout",
          "text": [
            "Playing audio file: female_segment_381.wav\n"
          ]
        },
        {
          "output_type": "display_data",
          "data": {
            "text/plain": [
              "<IPython.lib.display.Audio object>"
            ],
            "text/html": [
              "\n",
              "                <audio  controls=\"controls\" >\n",
              "                    <source src=\"data:audio/x-wav;base64,UklGRiQEAABXQVZFZm10IBAAAAABAAEAIlYAAESsAAACABAAZGF0YQAEAAAgA+cCngJFAuABcwECAYwAEACM/wH/cv7j/Vj91vxc/OX7avvm+lr60PlV+fD4m/hK+PH3j/cx9+X2tvab9oX2Z/ZF9jH2QfZ+9uP2X/ff91r41vhc+fH5kPoq+7D7Gfxt/L38F/2A/e/9T/6O/qj+qP6e/pX+jv59/lj+Hv7S/X79Hf2k/Af8Rvtx+p352vgo+Hr3u/bg9e307PPp8u/xDPFQ8MzvgO9O7wzvou4t7u7tIu7N7rLvhfAs8dDxq/LU8yz1eval98X4B/p9+xT9qP4oAKUBOAPlBI0GCAhGCWIKjwvnDFcOqQ+1EH8RLRLgEosTCBQ+FEAUPBRIFFIUMxTgE3YTHRPbEpASGRJ0EbwQDRBjD6UOzA3qDCAMegvmCkUKjQnNCB8IjAcKB4cGAQaDBR8F1gSXBEoE6QODAzAD/gLfArQCYALlAVsB5ACNAEoABQCv/0n/3v5z/gj+m/0s/b38Uvzq+4P7Hvu8+lv69vmL+SD5vfhm+Bn4y/dx9w33r/Zw9lz2cfaX9rn2yvbT9ub2FPde97v3Kviv+Fj5KPoO++r7n/wi/YP93v1H/rn+I/90/7H/6v8pAGMAgABoABoArf8+/9v+hv4w/sj9Pf2F/KT7tvrd+Sv5kfjo9w73B/b69A70SfOV8tXxDfFb8N7vm+9972zvae+I79zvZPAJ8bXxYPIh8xT0RfWl9hP4bfmp+tv7Hf2C/goAnAEfA4MEzAUGB0cInQkEC2YMow2jDmkPChCkEEQR4xFvEtwSKBNSE1cTMBPcEnESDhLJEZoRWhHbEAkQ/A7sDQgNYAzZC0wLpArrCUEJughQCOwHfAcFB5wGUQYkBv0FyAWBBTcF/wTdBMEElARPBAQEyAOjA4kDYwMnA98CnwJqAjYC6wGEAQoBjgAWAJr/DP9q/r39FP15/Of7Ufuw+gz6cvnx+I74RPgM+Ob30fe/96L3bvcq9+720/bd9vz2Gfcw91X3nPcQ+KL4NvnB+Ur64/qU+1X8B/2Y/Qv+dP7m/l7/w//4//f/1P+n/37/Tf8D/5j+GP6W/Rj9l/wG/F77pfrj+R35UviD96320PXu9Av0K/NY8pLx1vAl8I3vIO/x7vfuEu8i7xvvE+8076XvbvCC8cbyIPR79cv2DfhL+Zj6AvyJ/R7/sQA7Ar8DPAWqBgYIUwmhCvsLWA2YDpcPTBDOEEwR6xGiEj0ThBNkEwITpBJ5EnsSfhJYEv8RhhH8EFsQmw/JDgYOcA3/DIwM9As5C4IK8QmGCSEJpAgOCIIHJgf9BvAG1wacBkgG+AXABaMFjwVtBS4F1gRxBAgEnwM2A8wCYALrAWoB3ABHALf/NP+1/i7+lv3s/Dz8\" type=\"audio/x-wav\" />\n",
              "                    Your browser does not support the audio element.\n",
              "                </audio>\n",
              "              "
            ]
          },
          "metadata": {}
        },
        {
          "output_type": "stream",
          "name": "stdout",
          "text": [
            "Playing audio file: female_segment_382.wav\n"
          ]
        },
        {
          "output_type": "display_data",
          "data": {
            "text/plain": [
              "<IPython.lib.display.Audio object>"
            ],
            "text/html": [
              "\n",
              "                <audio  controls=\"controls\" >\n",
              "                    <source src=\"data:audio/x-wav;base64,UklGRiQEAABXQVZFZm10IBAAAAABAAEAIlYAAESsAAACABAAZGF0YQAEAACN++b6TvrP+XH5Lvnw+KL4Qfjj96f3nfe199P34ffh9+T3/fcv+HH4vfga+ZP5Lvre+ov7JPys/DX9zv1s/vb+Vv+R/8T/BQBPAIIAfgBFAPb/rf9r/xf/kv7c/Qz9Pvx8+7n63/nn+Nr3x/a29ab0kvN98nHxdvCM76Tuue3W7B3sp+t363DrcOts63vrv+tJ7BDt/O0C7yvwhfEY8830hfYm+Kz5Kvu7/G3+OgAJAsADUgXNBkwI5QmVCz0NtA7iD8sQjxFKEgMTpRMRFDoUMhQjFDEUVxRtFEMUxRMJEz8SjBH1EGQQwA/8DiMOQg1mDJELwwoBCkwJowgECHEH6gZuBvsFjAUiBcYEfwRKBCIE/gPaA7sDogOLA24DSAMgAwED7gLcAr8CkwJhAjQCDwLnAasBVQHqAHoAEQCq/zv/uP4j/ov9AP2H/BH8lPsT+5f6KPq6+Tz5r/gq+M73p/eb93v3LffB9mP2N/ZB9mn2mfbO9hD3ZPfF9yf4hvjp+Ff5zPk9+p366vor+2v7svsA/Ev8iPyn/Kn8mvyO/I38jPxw/CX8tPtC++/6vPqL+jj6vPks+aT4LPi19zD3oPYa9rf1evVU9TT1FvX/9PX0+PQF9SP1WfWw9SP2pvYz98v3c/g0+Q36+fr2+//8EP4l/zwAUgFkAnEDegR+BX4GeAdmCEIJCAq4ClsLBQzODLoNrQ5uD8gPuw+ND5IP7g9vELUQjxAjEM4PwQ/WD64PHQ9LDpINJA3hDH0M1AsKC1oK3QlyCegIOAiHBwUHtwZ6Bh8GlwX2BGEE6wONAywDuQI5AsQBdAFOAUQBOwEgAfMAxACmAJ0AnACRAGsAJQDK/3H/MP8X/yX/Uf+Q/+P/TQDMAFYB0gErAlsCZwJbAj4CDgLLAXgBHgHEAG4AIgDk/67/cf8Y/5v+BP5r/eH8XfzB+//6Hvo9+XD4tffw9gr2/vTX86TycfFO8FDvgu7X7S3tbeym6wnru+qz6r3qseqU6p3q+uqy65zsje157njvm/Dd8SbzbPS/9Tj34fij+l/8//2O/yYB1gKVBEUGygckCXEKzQtADa0O4w+/EEURnhH6EW4S7BJLE2sTRhP1EpgSQhLrEXsR4hAiEFQPkg7nDUQNlAzLC/AKHApjCccINgidB/YGTwa8BUYF4gR+BAwEjgMWA7YCcgJBAhQC4AGoAXcBUwE7ASoBGQEIAfgA7QDfAMUAmwBoADgAGgANAP3/2/+n/3L/UP9B/y7/+f6d/iz+x/2A/Uv9Ff3U/Iv8RvwL/ND7jvtL+xL76/rQ+rL6hvpR+hz67/nL+aj5fflN+R/5APnz+Pj4CPkZ+SH5IPka+Rb5F/kb+R35\" type=\"audio/x-wav\" />\n",
              "                    Your browser does not support the audio element.\n",
              "                </audio>\n",
              "              "
            ]
          },
          "metadata": {}
        },
        {
          "output_type": "stream",
          "name": "stdout",
          "text": [
            "Playing audio file: female_segment_4571.wav\n"
          ]
        },
        {
          "output_type": "display_data",
          "data": {
            "text/plain": [
              "<IPython.lib.display.Audio object>"
            ],
            "text/html": [
              "\n",
              "                <audio  controls=\"controls\" >\n",
              "                    <source src=\"data:audio/x-wav;base64,UklGRiQEAABXQVZFZm10IBAAAAABAAEAIlYAAESsAAACABAAZGF0YQAEAAAAAAAA///+//7////+///////+//3//v/+////AAD//////v/9//3///8AAAIABAAHAAcABgADAAAA/v/+/wAAAQABAAAA////////AAAAAP7//f///wAAAwAGAAcABwAGAAYABgAHAAcACAAJAAkACQAKAAkACQAIAAcABgAHAAYABwAHAAcACAAHAAYABQAGAAUABQAGAAUABQAGAAUABgAGAAUABgAHAAcABwAGAAYABQAGAAUABQAFAAQAAgACAAEAAgACAAEAAgABAAEAAAD/////AAD/////AAAAAP//AAAAAP///v///wIABQAHAAcABgAGAAcABwAIAAkACAAGAAcABwAHAAYABwAHAAcACAAIAAgABgADAAAA//8AAAEAAgACAAEAAgABAP///v/+//7///8AAAAAAAABAAAA///+//7///8CAAUABgAGAAUABAAFAAUABgAGAAcABwAHAAYABQACAAEAAAAAAAEAAgADAAMAAgABAAAAAAADAAYABwAGAAMAAQADAAYACQALAAkABwAFAAUABwAIAAcABwAGAAUABgAGAAUABgAGAAUABgAGAAYABwAHAAgACAAIAAcABwAGAAYABgAHAAgABgACAP///f/+/wAAAQABAAAAAAD//wAAAAABAAAA///+//3//v/+/wEABQAIAAsADgAPAA4ADgANAA4ADgAPAA4ADQANAA4ADwAOAA0ACwAJAAYABAAEAAYABwAGAAQAAgD///7//////////v/9//7//f/+//7////+//////////7//f/+//3//v/+/////v//////AAD///7//P/5//f/9v/2//j/+f/4//f/9//4//r//f///////v/+//////8AAP//AAAAAAEAAQABAAAA/////////v/9//7/AQAEAAcACAAGAAUABQAFAAYABQAFAAYABQAGAAYABwAGAAcABwAHAAgABwAGAAUABgAHAAgABwAEAAAA/v/+/wEABAAHAAkACQAIAAkACgAKAAkACAAIAAgABwAGAAYABQAGAAkADQAOAA0ADAAKAAsADgAQAA4ADAAJAAYABgAHAAgABwAGAAUABAADAAQABAAEAAUABwAHAAUAAgAAAP//AAABAAEAAgABAAAAAAD//wAAAQABAAIAAQABAAAAAQAAAP///v/+////AgAEAAUABAADAAYACgANAA4ACwAIAAYABgAHAAgACAAHAAUABQAHAAgACQAJAAkACAAIAAkACAAIAAkACQAIAAcABAACAAAA//8AAAEAAAD///z/+f/3//b/9v/3//j/9//2//f/9//4//j/9//1//b/+f/9/wEAAwADAAEAAAAAAAAA\" type=\"audio/x-wav\" />\n",
              "                    Your browser does not support the audio element.\n",
              "                </audio>\n",
              "              "
            ]
          },
          "metadata": {}
        },
        {
          "output_type": "stream",
          "name": "stdout",
          "text": [
            "Playing audio file: female_segment_4572.wav\n"
          ]
        },
        {
          "output_type": "display_data",
          "data": {
            "text/plain": [
              "<IPython.lib.display.Audio object>"
            ],
            "text/html": [
              "\n",
              "                <audio  controls=\"controls\" >\n",
              "                    <source src=\"data:audio/x-wav;base64,UklGRiQEAABXQVZFZm10IBAAAAABAAEAIlYAAESsAAACABAAZGF0YQAEAAABAAEAAAAAAP////8AAAEAAwAFAAYABwAGAAcACAAJAAgABgADAAAA////////AAABAAIABgAJAAsACQAIAAcACAAKAAoACAAEAAEAAQADAAYABwAGAAYABQAGAAYABwAGAAUABQAFAAMAAQAAAP////8AAAEAAAAAAAEAAQACAAMAAgABAAEAAAAAAP///v/+////AgAGAAgACQAJAAgABwAHAAgACQAKAAoACQAJAAgABwAHAAgABwAIAAgABwAGAAYABgAHAAcABgACAP///P/7//z//v/9//3//f/+//7//v/8//j/9v/3//r//f8AAP///P/5//f/9//4//j/+P/5//v//v8BAAIAAQD///7/AAAAAAAA//////7/AAADAAYABwAHAAgACAAIAAkACgAKAAkACAAIAAkACAAIAAcACAAHAAcABwAGAAUABgAHAAcABwAEAAAA/f/8//z//f/9//7//v/+//7/AAADAAUABgAGAAUABgAGAAcACAAHAAUAAgAAAP//AAABAAIAAgABAAAAAAABAAEAAAAAAAAAAQADAAYACQAJAAgABwAHAAkADAAOAA4ADQANAA8AEgAUABIADgALAAsADQAOAA0ACgAHAAcACAAJAAYAAgD///v/+f/4//n/+P/3//f/+P/5//r//P/+/wAAAQABAP7/+v/3//b/9//3//X/8//x//D/8f/y//T/9//8/wAAAwAEAAMAAwACAAIAAgABAAEAAQACAAEA///+/wAAAwAGAAcABgAFAAUABgAGAAQAAQD+//3///8CAAIAAQD+//7///8DAAgACgAJAAcABgAGAAcABQACAP///f/8//3//f/9//7//v////7/+//4//b/9v/5//3//v////7///8BAAUABwAIAAkACQAKAA0ADwAQABEAEAAPAA8ADQAJAAYABQAEAAUABQAGAAUAAwADAAQABQAFAAUABAAEAAQABgAHAAYABQADAAIAAgAEAAUABQAFAAQAAwAEAAQAAgAAAP7//f/+//////8AAAEAAgACAAIAAQABAAMABwAKAAwACwAIAAYABQAHAAkADAAOAA0ADAAMAA4ADwAPAA4ADgAOAA4ADwAQAA4ACwAIAAYABQAGAAgACQAIAAQAAQD///////8AAAAA//8AAAAAAAD///7///////7//f/7//f/9v/3//f/9v/2//f/9//4//f/9//4//z/AAACAAMAAgACAAMABwAJAAcAAwAAAP3//v////////8BAAQABwAJAAkABgACAAEAAwAHAAgABgACAP//AQAFAAgACAAHAAYABwAHAAgACAAHAAcACAAIAAcACAAJAAgACAAGAAUA\" type=\"audio/x-wav\" />\n",
              "                    Your browser does not support the audio element.\n",
              "                </audio>\n",
              "              "
            ]
          },
          "metadata": {}
        },
        {
          "output_type": "stream",
          "name": "stdout",
          "text": [
            "Playing audio file: female_segment_4573.wav\n"
          ]
        },
        {
          "output_type": "display_data",
          "data": {
            "text/plain": [
              "<IPython.lib.display.Audio object>"
            ],
            "text/html": [
              "\n",
              "                <audio  controls=\"controls\" >\n",
              "                    <source src=\"data:audio/x-wav;base64,UklGRiQEAABXQVZFZm10IBAAAAABAAEAIlYAAESsAAACABAAZGF0YQAEAAAFAAgACwANAAsABwADAAEAAQABAAAA/v/+//3//v/+//3/+//7//3/AgAGAAYAAwABAAEAAwAGAAYAAwAAAAEABAAIAAkACQAHAAcACAAIAAYAAwABAAEAAgACAAMAAwADAAYACQALAAkABgACAP////8AAAAAAAAAAAEAAwAEAAIAAQAAAAAAAQABAAAA/v///wEAAgAAAPz/+P/3//j/+f/5//j/+P/7//7/AAACAAEA/////wAAAgAEAAYACAAIAAcABgAGAAUABgAGAAYABAADAAIAAwAFAAgACgALAAoACwALAAwACwAIAAYABQAFAAQABAADAAQABAAFAAYABgAFAAUABgAGAAQAAQD+//7//f/+//3//f/8//3//f///wAAAAD//wAA/////wAAAgAEAAcACgALAAkABgADAAEA//8AAAMABgAHAAcABgAHAAcACAAHAAcABgAHAAkACwANAA4ADQAMAAsACgALAAsACgALAAwADQAMAAkABgADAAIAAwAEAAQAAgD///3/+//7//z/+//6//r/+v/7//z/+//6//r/+v/+/wIABAAEAAMAAgACAAIAAgABAAEAAAABAAIAAgABAAIAAgACAAEAAAD///7//v///wAAAAD///3//v8AAAIABgAJAAoACgAKAAkACgAKAAsACgAJAAgABwAHAAgACAAIAAUAAgD/////AAABAAAA/v/+////AwAGAAcABwAGAAUABQAGAAUAAwACAAMABQAHAAcABQADAAEAAQAEAAcABwAHAAYABQAFAAYABQAFAAQAAwAFAAcACgANAA8ADwAOAA0ADwASABQAFQATAA8ADQANAA4ADQALAAcAAwABAAEAAAD///3//f/8//z//P/9//3//v//////AAABAAEAAAABAAAAAAABAAIAAgABAAAAAAAAAAEAAgACAAEAAQAAAAAA//8AAAEAAQADAAQABQAFAAYABwAHAAgACAAKAAwADgAPABAAEQARABAADwANAAwACQAJAAgACQAJAAoACQAIAAgABwAIAAgABwAGAAUABQAFAAYACQAMAA4ADgANAAoABwAFAAUABwAIAAgABwAEAAEA///9//3//v/+/////v////7////+//7//f/9////AQAEAAYACAAIAAkACgAJAAcABgAFAAYABwAGAAIAAAD//wAAAQABAAAA/v/+/wAAAQABAP///v/+////AQACAAAA/////wIABQAHAAcABgAGAAYABwAGAAQAAAD9//v//f/+//////8AAAEAAQAAAP//AAACAAUABwAIAAgABwAGAAcABwAHAAYABgAHAAgABwAHAAgABwAIAAgACAAHAAcA\" type=\"audio/x-wav\" />\n",
              "                    Your browser does not support the audio element.\n",
              "                </audio>\n",
              "              "
            ]
          },
          "metadata": {}
        },
        {
          "output_type": "stream",
          "name": "stdout",
          "text": [
            "Playing audio file: female_segment_4574.wav\n"
          ]
        },
        {
          "output_type": "display_data",
          "data": {
            "text/plain": [
              "<IPython.lib.display.Audio object>"
            ],
            "text/html": [
              "\n",
              "                <audio  controls=\"controls\" >\n",
              "                    <source src=\"data:audio/x-wav;base64,UklGRiQEAABXQVZFZm10IBAAAAABAAEAIlYAAESsAAACABAAZGF0YQAEAAAGAAYABwAHAAYABgAGAAYACAAJAAgACQAKAAoACgAJAAgACAAJAAgABwAFAAQABQAHAAcABQAAAP3//P/+/wAAAAD7//X/8//1//3/BQAIAAgABwAHAAsAEgAXABgAFgASAA8ADgAPABAAEAAOAAkABQACAAIABAAIAAoABwAEAAAA/////wEAAgAAAP////8AAAMABgAHAAcABwAGAAYABQAEAAMAAwAFAAYABAABAP///f/9//7//v/8//j/9v/3//r//f////////////7//f/9//7//v/+////AAD///////8BAAQABwAIAAcABQAFAAYABwAHAAgABwAHAAYABwAIAAkACgAKAAkACQAIAAkACAAIAAkACAAIAAcACAAJAAkACQAIAAUAAgABAAEAAQACAAIAAQABAAAAAQABAAEAAAD//wAAAAADAAgADQAPAA4ACgAHAAQAAwAEAAUABQAEAAQABAAFAAkADQAPAA0ABwACAP////8BAAMABQAEAAEA/v/8//z//v8CAAcACgAMAA0ADQANAA4AEAAUABcAFgATABEADwANAA0ADQALAAgABgAFAAUABQAGAAUABgAFAAYABQAEAAQABgAHAAgACAAHAAYABgAIAAkACQAIAAYAAgABAAIABAAGAAcABwAIAAoADAAOAA4ADQALAAgABQAEAAYABwAKAAsADAALAAsACQAKAAwADAANAA0ACwAIAAQAAQAAAAEAAgABAP//+//3//b/9v/4//n/+P/2//X/9//6//7/AAABAAEAAAAAAAAA//8AAAEAAQAAAAEAAQD///7//////wAAAQACAAEAAAD///////8BAAMABAAFAAYACAAKAAwADgAPAA8ADgALAAcABAACAP///v///wEAAgABAAAA/f/8//z//f8AAAIAAQD///////8AAAEAAAD+//3//v8CAAYACgAMAAoABwADAAIAAwAFAAgACgAKAAkACQAIAAgABwAHAAYABwAHAAoADwASABQAFgAXABcAGAAYABcAFwAWABcAFwAWABYAFQAUABUAFAATABMAEQAOAAwADAAMAA4AEAAQAA8ADgANAA4ADwAOAA0ACwAJAAcABgAFAAMAAQD///////8BAAMABAADAAEA/v/9//3//P/9////AgAGAAgACQAIAAkACgANABAAEQARABAAEAARABMAFQAWABQAEgAQAA8ADwAPAA4ADAALAAkACAAIAAgABwAFAAIAAAD///////8BAAIAAwAFAAYABgAGAAUABQAIAAsADAAMAAoABwAEAAIAAgADAAIA/v/6//j/+f/8////AgABAP///f/9////AwAGAAgACAAHAAYA\" type=\"audio/x-wav\" />\n",
              "                    Your browser does not support the audio element.\n",
              "                </audio>\n",
              "              "
            ]
          },
          "metadata": {}
        }
      ]
    },
    {
      "cell_type": "markdown",
      "source": [
        "# Delete Audio"
      ],
      "metadata": {
        "id": "RGtJ6jObPGjN"
      }
    },
    {
      "cell_type": "code",
      "source": [
        "import os\n",
        "\n",
        "# Directory containing the files you want to delete\n",
        "# directory_path = 'male_audio_chunks'\n",
        "directory_path = './source/male_segments_eps_1.0'\n",
        "# List all files and directories in the directory\n",
        "files = os.listdir(directory_path)\n",
        "\n",
        "# Iterate over each item and delete it if it's a file\n",
        "for item in files:\n",
        "    file_path = os.path.join(directory_path, item)\n",
        "    if os.path.isfile(file_path):\n",
        "        os.remove(file_path)\n",
        "    else:\n",
        "        print(f\"Skipping directory: {item}\")\n",
        "\n",
        "print(\"All files in the directory have been deleted.\")"
      ],
      "metadata": {
        "id": "D3tt-M3xPKEk",
        "colab": {
          "base_uri": "https://localhost:8080/"
        },
        "outputId": "13e69214-4e15-4986-93c8-dad40962c65e"
      },
      "execution_count": null,
      "outputs": [
        {
          "output_type": "stream",
          "name": "stdout",
          "text": [
            "All files in the directory have been deleted.\n"
          ]
        }
      ]
    },
    {
      "cell_type": "markdown",
      "source": [
        "# Download files"
      ],
      "metadata": {
        "id": "BXO6iKCPRKTq"
      }
    },
    {
      "cell_type": "code",
      "source": [
        "import shutil\n",
        "from google.colab import files\n",
        "\n",
        "# Zip the directory named 'chunk_audio'\n",
        "shutil.make_archive('chunk_audio', 'zip', 'chunk_audio')\n",
        "\n",
        "# Download the zipped directory\n",
        "files.download('chunk_audio.zip')\n"
      ],
      "metadata": {
        "colab": {
          "base_uri": "https://localhost:8080/",
          "height": 17
        },
        "id": "kZCc6Oa5RNkt",
        "outputId": "def4f19a-ac1b-44ed-9dd2-2fbeebf3b3c5"
      },
      "execution_count": null,
      "outputs": [
        {
          "output_type": "display_data",
          "data": {
            "text/plain": [
              "<IPython.core.display.Javascript object>"
            ],
            "application/javascript": [
              "\n",
              "    async function download(id, filename, size) {\n",
              "      if (!google.colab.kernel.accessAllowed) {\n",
              "        return;\n",
              "      }\n",
              "      const div = document.createElement('div');\n",
              "      const label = document.createElement('label');\n",
              "      label.textContent = `Downloading \"${filename}\": `;\n",
              "      div.appendChild(label);\n",
              "      const progress = document.createElement('progress');\n",
              "      progress.max = size;\n",
              "      div.appendChild(progress);\n",
              "      document.body.appendChild(div);\n",
              "\n",
              "      const buffers = [];\n",
              "      let downloaded = 0;\n",
              "\n",
              "      const channel = await google.colab.kernel.comms.open(id);\n",
              "      // Send a message to notify the kernel that we're ready.\n",
              "      channel.send({})\n",
              "\n",
              "      for await (const message of channel.messages) {\n",
              "        // Send a message to notify the kernel that we're ready.\n",
              "        channel.send({})\n",
              "        if (message.buffers) {\n",
              "          for (const buffer of message.buffers) {\n",
              "            buffers.push(buffer);\n",
              "            downloaded += buffer.byteLength;\n",
              "            progress.value = downloaded;\n",
              "          }\n",
              "        }\n",
              "      }\n",
              "      const blob = new Blob(buffers, {type: 'application/binary'});\n",
              "      const a = document.createElement('a');\n",
              "      a.href = window.URL.createObjectURL(blob);\n",
              "      a.download = filename;\n",
              "      div.appendChild(a);\n",
              "      a.click();\n",
              "      div.remove();\n",
              "    }\n",
              "  "
            ]
          },
          "metadata": {}
        },
        {
          "output_type": "display_data",
          "data": {
            "text/plain": [
              "<IPython.core.display.Javascript object>"
            ],
            "application/javascript": [
              "download(\"download_cba36d63-d0d4-48c8-b801-aa810ee1d795\", \"chunk_audio.zip\", 2077737)"
            ]
          },
          "metadata": {}
        }
      ]
    }
  ]
}